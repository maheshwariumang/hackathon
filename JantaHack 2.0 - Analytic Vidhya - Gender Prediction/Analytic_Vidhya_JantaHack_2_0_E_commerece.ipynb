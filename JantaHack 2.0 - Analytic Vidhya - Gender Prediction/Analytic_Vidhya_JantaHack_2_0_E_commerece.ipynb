{
  "nbformat": 4,
  "nbformat_minor": 0,
  "metadata": {
    "colab": {
      "name": "Analytic Vidhya JantaHack 2.0 E-commerece.ipynb",
      "provenance": [],
      "collapsed_sections": []
    },
    "kernelspec": {
      "name": "python3",
      "display_name": "Python 3"
    }
  },
  "cells": [
    {
      "cell_type": "markdown",
      "metadata": {
        "id": "xBC5-0Ppadnd",
        "colab_type": "text"
      },
      "source": [
        "## Problem Statement\n",
        "It is important to gain in-depth insights into e-commerce via data-driven analytics and identify the factors affecting product sales, the impact of characteristics of customers on their purchase habits.\n",
        "\n",
        "It is quite useful to understand the demand, habits, concern, perception, and interest of customers from the clue of genders for e-commerce companies. \n",
        "\n",
        "However, the genders of users are in general unavailable in e-commerce platforms. To address this gap the aim here is to predict the gender of e-commerce’s participants from their product viewing records.\n",
        "\n",
        "About Data Source: PAKDD 2015 Conference\n",
        "\n",
        "###Data Dictionary \n",
        " CSV containing the product viewing data with gender as label\n",
        "\n",
        "\n",
        "\n",
        "```\n",
        "Variable\t    Definition\n",
        "session_id\t  Session ID\n",
        "startTime\t   Start time of the session\n",
        "endTime\t     End Time of the session\n",
        "ProductList \tList of products viewed\n",
        "gender\t      (Target) male/female\n",
        "```\n",
        "\n",
        "\n",
        "\n",
        "\n",
        "Product list contains list of products viewed by the user in the given session and it also contains the category, sub category, sub-sub category and the product all encoded and separated with a slash symbol. Each consecutive product is separated with a semicolon.\n",
        "\n",
        "###Evaluation Metric\n",
        "Submissions are evaluated on accuracy between the predicted and observed gender for the sessions in the test set.\n"
      ]
    },
    {
      "cell_type": "code",
      "metadata": {
        "id": "-ddZefSmB7Zh",
        "colab_type": "code",
        "colab": {}
      },
      "source": [
        "# importing all the neccessary libraries for the use\n",
        "\n",
        "import pickle\n",
        "import numpy as np\n",
        "import pandas as pd\n",
        "import seaborn as sns\n",
        "from collections import Counter\n",
        "import matplotlib.pyplot as plt\n",
        "%matplotlib inline\n",
        "from xgboost import XGBClassifier\n",
        "from sklearn.model_selection import train_test_split, RandomizedSearchCV, StratifiedKFold\n",
        "from sklearn.preprocessing import LabelEncoder, OneHotEncoder\n",
        "from sklearn.ensemble import RandomForestClassifier, AdaBoostClassifier, GradientBoostingClassifier"
      ],
      "execution_count": 0,
      "outputs": []
    },
    {
      "cell_type": "code",
      "metadata": {
        "id": "j7m-lMTsCFf3",
        "colab_type": "code",
        "colab": {}
      },
      "source": [
        "# loading train data\n",
        "# Loading data from the Google drive\n",
        "train_df = pd.read_csv('/content/drive/My Drive/Kaggle/Janata Hack/Part 2 - E commerce/train_8wry4cB.csv')"
      ],
      "execution_count": 0,
      "outputs": []
    },
    {
      "cell_type": "code",
      "metadata": {
        "id": "DaZJE5pzCH7m",
        "colab_type": "code",
        "colab": {}
      },
      "source": [
        "# loading test data\n",
        "test_df = pd.read_csv('/content/drive/My Drive/Kaggle/Janata Hack/Part 2 - E commerce/test_Yix80N0.csv')"
      ],
      "execution_count": 0,
      "outputs": []
    },
    {
      "cell_type": "code",
      "metadata": {
        "id": "DsTIrtGcZf5S",
        "colab_type": "code",
        "colab": {}
      },
      "source": [
        "#Custom function for extract infor from product list\n",
        "def find_product_feature(str):\n",
        "    '''\n",
        "    This function help us to return the tuple of value reltated to ProductList\n",
        "    \n",
        "    input argument:\n",
        "    str: String input for each row in ProductList column\n",
        "\n",
        "    return:\n",
        "    count_item: How many product viewed, \n",
        "    product_category_lv1: Product category name, \n",
        "    product_category_lv2: Sub product category name, \n",
        "    unique_lv1: Number of unique sub sub category viewed, \n",
        "    unique_lv2: Number of unique item viewed, \n",
        "    most_freq_lv1: Highest frequency of sub sub category view\n",
        "    '''\n",
        "    if \";\"  in str:\n",
        "        prd_lst = str.split(\";\")\n",
        "        count_item = len(prd_lst)\n",
        "        product_category_lv1 = prd_lst[0].split(\"/\")[0]\n",
        "        product_category_lv2 = prd_lst[0].split(\"/\")[1]\n",
        "        sub_category_lv1 =[]\n",
        "        sub_category_lv2 =[]\n",
        "        for item in prd_lst:\n",
        "            sub_category_lv1.append(item.split(\"/\")[0])\n",
        "            sub_category_lv2.append(item.split(\"/\")[1])\n",
        "        unique_lv1 = len(set(sub_category_lv1))\n",
        "        unique_lv2 = len(set(sub_category_lv2))\n",
        "        most_freq_lv1 =  max(sub_category_lv1, key=Counter(sub_category_lv1).get)        \n",
        "    else:\n",
        "        lv_lst = str.split(\"/\")\n",
        "        product_category_lv1 = lv_lst[0]\n",
        "        product_category_lv2 = lv_lst[1]\n",
        "        count_item = 1\n",
        "        unique_lv1 = 1\n",
        "        unique_lv2 = 1\n",
        "        most_freq_lv1 = product_category_lv1\n",
        "    return (count_item, product_category_lv1, product_category_lv2, unique_lv1, unique_lv2, most_freq_lv1) "
      ],
      "execution_count": 0,
      "outputs": []
    },
    {
      "cell_type": "code",
      "metadata": {
        "id": "3v4nkm3dCV2K",
        "colab_type": "code",
        "colab": {}
      },
      "source": [
        "#Feature Extraction:\n",
        "new_col = ('NumProduct','FirstA','FirstB','UniqueA','UniqueB','MostA')"
      ],
      "execution_count": 0,
      "outputs": []
    },
    {
      "cell_type": "code",
      "metadata": {
        "id": "jFMk1lFECj-j",
        "colab_type": "code",
        "outputId": "e266ebd3-c836-4c8c-d927-eaa22d7f1345",
        "colab": {
          "base_uri": "https://localhost:8080/",
          "height": 212
        }
      },
      "source": [
        "# Applying custom function on every row of train data\n",
        "\n",
        "new_col_lst = train_df['ProductList'].apply(lambda x: find_product_feature(x))\n",
        "new_col_lst"
      ],
      "execution_count": 0,
      "outputs": [
        {
          "output_type": "execute_result",
          "data": {
            "text/plain": [
              "0        (4, A00002, B00003, 1, 1, A00002)\n",
              "1        (7, A00001, B00009, 1, 1, A00001)\n",
              "2        (1, A00002, B00001, 1, 1, A00002)\n",
              "3        (3, A00002, B00004, 1, 1, A00002)\n",
              "4        (2, A00001, B00001, 1, 1, A00001)\n",
              "                       ...                \n",
              "10495    (2, A00002, B00002, 1, 1, A00002)\n",
              "10496    (1, A00006, B00030, 1, 1, A00006)\n",
              "10497    (1, A00002, B00002, 1, 1, A00002)\n",
              "10498    (2, A00003, B00012, 1, 1, A00003)\n",
              "10499    (4, A00002, B00001, 2, 3, A00002)\n",
              "Name: ProductList, Length: 10500, dtype: object"
            ]
          },
          "metadata": {
            "tags": []
          },
          "execution_count": 6
        }
      ]
    },
    {
      "cell_type": "code",
      "metadata": {
        "id": "iObJTOzMC3Ri",
        "colab_type": "code",
        "outputId": "11085fe6-7b19-4727-e346-a7cd9cb3bd64",
        "colab": {
          "base_uri": "https://localhost:8080/",
          "height": 212
        }
      },
      "source": [
        "# Applying custom function on every row of test data as well\n",
        "\n",
        "new_test_col_lst = test_df['ProductList'].apply(lambda x: find_product_feature(x))\n",
        "new_test_col_lst"
      ],
      "execution_count": 0,
      "outputs": [
        {
          "output_type": "execute_result",
          "data": {
            "text/plain": [
              "0       (1, A00002, B00003, 1, 1, A00002)\n",
              "1       (1, A00002, B00005, 1, 1, A00002)\n",
              "2       (1, A00002, B00002, 1, 1, A00002)\n",
              "3       (4, A00002, B00003, 1, 1, A00002)\n",
              "4       (1, A00002, B00001, 1, 1, A00002)\n",
              "                      ...                \n",
              "4495    (3, A00001, B00031, 1, 1, A00001)\n",
              "4496    (2, A00002, B00002, 1, 1, A00002)\n",
              "4497    (9, A00002, B00007, 1, 1, A00002)\n",
              "4498    (1, A00001, B00031, 1, 1, A00001)\n",
              "4499    (2, A00002, B00002, 1, 1, A00002)\n",
              "Name: ProductList, Length: 4500, dtype: object"
            ]
          },
          "metadata": {
            "tags": []
          },
          "execution_count": 7
        }
      ]
    },
    {
      "cell_type": "code",
      "metadata": {
        "id": "k5lad4J5DX5s",
        "colab_type": "code",
        "colab": {}
      },
      "source": [
        "# Creating dataframe from the features for train and test data\n",
        "\n",
        "new_col_df = pd.DataFrame(new_col_lst.tolist(),columns =new_col)\n",
        "new_test_col_df = pd.DataFrame(new_test_col_lst.tolist(),columns =new_col)"
      ],
      "execution_count": 0,
      "outputs": []
    },
    {
      "cell_type": "code",
      "metadata": {
        "id": "K-0Po_0ZExQZ",
        "colab_type": "code",
        "colab": {}
      },
      "source": [
        "# Concating the data with original dataframe\n",
        "\n",
        "data = pd.concat([train_df, new_col_df], axis=1)\n",
        "test_data = pd.concat([test_df, new_test_col_df], axis=1)"
      ],
      "execution_count": 0,
      "outputs": []
    },
    {
      "cell_type": "code",
      "metadata": {
        "id": "igQbxTSLE058",
        "colab_type": "code",
        "outputId": "c3975855-52d3-4055-aada-fe8bd7a17709",
        "colab": {
          "base_uri": "https://localhost:8080/",
          "height": 191
        }
      },
      "source": [
        "# checking\n",
        "data.head()"
      ],
      "execution_count": 0,
      "outputs": [
        {
          "output_type": "execute_result",
          "data": {
            "text/html": [
              "<div>\n",
              "<style scoped>\n",
              "    .dataframe tbody tr th:only-of-type {\n",
              "        vertical-align: middle;\n",
              "    }\n",
              "\n",
              "    .dataframe tbody tr th {\n",
              "        vertical-align: top;\n",
              "    }\n",
              "\n",
              "    .dataframe thead th {\n",
              "        text-align: right;\n",
              "    }\n",
              "</style>\n",
              "<table border=\"1\" class=\"dataframe\">\n",
              "  <thead>\n",
              "    <tr style=\"text-align: right;\">\n",
              "      <th></th>\n",
              "      <th>session_id</th>\n",
              "      <th>startTime</th>\n",
              "      <th>endTime</th>\n",
              "      <th>ProductList</th>\n",
              "      <th>gender</th>\n",
              "      <th>NumProduct</th>\n",
              "      <th>FirstA</th>\n",
              "      <th>FirstB</th>\n",
              "      <th>UniqueA</th>\n",
              "      <th>UniqueB</th>\n",
              "      <th>MostA</th>\n",
              "    </tr>\n",
              "  </thead>\n",
              "  <tbody>\n",
              "    <tr>\n",
              "      <th>0</th>\n",
              "      <td>u16159</td>\n",
              "      <td>15/12/14 18:11</td>\n",
              "      <td>15/12/14 18:12</td>\n",
              "      <td>A00002/B00003/C00006/D28435/;A00002/B00003/C00...</td>\n",
              "      <td>female</td>\n",
              "      <td>4</td>\n",
              "      <td>A00002</td>\n",
              "      <td>B00003</td>\n",
              "      <td>1</td>\n",
              "      <td>1</td>\n",
              "      <td>A00002</td>\n",
              "    </tr>\n",
              "    <tr>\n",
              "      <th>1</th>\n",
              "      <td>u10253</td>\n",
              "      <td>16/12/14 14:35</td>\n",
              "      <td>16/12/14 14:41</td>\n",
              "      <td>A00001/B00009/C00031/D29404/;A00001/B00009/C00...</td>\n",
              "      <td>male</td>\n",
              "      <td>7</td>\n",
              "      <td>A00001</td>\n",
              "      <td>B00009</td>\n",
              "      <td>1</td>\n",
              "      <td>1</td>\n",
              "      <td>A00001</td>\n",
              "    </tr>\n",
              "    <tr>\n",
              "      <th>2</th>\n",
              "      <td>u19037</td>\n",
              "      <td>01/12/14 15:58</td>\n",
              "      <td>01/12/14 15:58</td>\n",
              "      <td>A00002/B00001/C00020/D16944/</td>\n",
              "      <td>female</td>\n",
              "      <td>1</td>\n",
              "      <td>A00002</td>\n",
              "      <td>B00001</td>\n",
              "      <td>1</td>\n",
              "      <td>1</td>\n",
              "      <td>A00002</td>\n",
              "    </tr>\n",
              "    <tr>\n",
              "      <th>3</th>\n",
              "      <td>u14556</td>\n",
              "      <td>23/11/14 2:57</td>\n",
              "      <td>23/11/14 3:00</td>\n",
              "      <td>A00002/B00004/C00018/D10284/;A00002/B00004/C00...</td>\n",
              "      <td>female</td>\n",
              "      <td>3</td>\n",
              "      <td>A00002</td>\n",
              "      <td>B00004</td>\n",
              "      <td>1</td>\n",
              "      <td>1</td>\n",
              "      <td>A00002</td>\n",
              "    </tr>\n",
              "    <tr>\n",
              "      <th>4</th>\n",
              "      <td>u24295</td>\n",
              "      <td>17/12/14 16:44</td>\n",
              "      <td>17/12/14 16:46</td>\n",
              "      <td>A00001/B00001/C00012/D30805/;A00001/B00001/C00...</td>\n",
              "      <td>male</td>\n",
              "      <td>2</td>\n",
              "      <td>A00001</td>\n",
              "      <td>B00001</td>\n",
              "      <td>1</td>\n",
              "      <td>1</td>\n",
              "      <td>A00001</td>\n",
              "    </tr>\n",
              "  </tbody>\n",
              "</table>\n",
              "</div>"
            ],
            "text/plain": [
              "  session_id       startTime         endTime  ... UniqueA UniqueB   MostA\n",
              "0     u16159  15/12/14 18:11  15/12/14 18:12  ...       1       1  A00002\n",
              "1     u10253  16/12/14 14:35  16/12/14 14:41  ...       1       1  A00001\n",
              "2     u19037  01/12/14 15:58  01/12/14 15:58  ...       1       1  A00002\n",
              "3     u14556   23/11/14 2:57   23/11/14 3:00  ...       1       1  A00002\n",
              "4     u24295  17/12/14 16:44  17/12/14 16:46  ...       1       1  A00001\n",
              "\n",
              "[5 rows x 11 columns]"
            ]
          },
          "metadata": {
            "tags": []
          },
          "execution_count": 10
        }
      ]
    },
    {
      "cell_type": "code",
      "metadata": {
        "id": "rYP33jVIE5S_",
        "colab_type": "code",
        "outputId": "5a70a7a6-e7d1-4aa2-c303-3458ad7b1ac2",
        "colab": {
          "base_uri": "https://localhost:8080/",
          "height": 191
        }
      },
      "source": [
        "test_data.head()"
      ],
      "execution_count": 0,
      "outputs": [
        {
          "output_type": "execute_result",
          "data": {
            "text/html": [
              "<div>\n",
              "<style scoped>\n",
              "    .dataframe tbody tr th:only-of-type {\n",
              "        vertical-align: middle;\n",
              "    }\n",
              "\n",
              "    .dataframe tbody tr th {\n",
              "        vertical-align: top;\n",
              "    }\n",
              "\n",
              "    .dataframe thead th {\n",
              "        text-align: right;\n",
              "    }\n",
              "</style>\n",
              "<table border=\"1\" class=\"dataframe\">\n",
              "  <thead>\n",
              "    <tr style=\"text-align: right;\">\n",
              "      <th></th>\n",
              "      <th>session_id</th>\n",
              "      <th>startTime</th>\n",
              "      <th>endTime</th>\n",
              "      <th>ProductList</th>\n",
              "      <th>NumProduct</th>\n",
              "      <th>FirstA</th>\n",
              "      <th>FirstB</th>\n",
              "      <th>UniqueA</th>\n",
              "      <th>UniqueB</th>\n",
              "      <th>MostA</th>\n",
              "    </tr>\n",
              "  </thead>\n",
              "  <tbody>\n",
              "    <tr>\n",
              "      <th>0</th>\n",
              "      <td>u12112</td>\n",
              "      <td>08/12/14 13:36</td>\n",
              "      <td>08/12/14 13:36</td>\n",
              "      <td>A00002/B00003/C00006/D19956/</td>\n",
              "      <td>1</td>\n",
              "      <td>A00002</td>\n",
              "      <td>B00003</td>\n",
              "      <td>1</td>\n",
              "      <td>1</td>\n",
              "      <td>A00002</td>\n",
              "    </tr>\n",
              "    <tr>\n",
              "      <th>1</th>\n",
              "      <td>u19725</td>\n",
              "      <td>19/12/14 13:52</td>\n",
              "      <td>19/12/14 13:52</td>\n",
              "      <td>A00002/B00005/C00067/D02026/</td>\n",
              "      <td>1</td>\n",
              "      <td>A00002</td>\n",
              "      <td>B00005</td>\n",
              "      <td>1</td>\n",
              "      <td>1</td>\n",
              "      <td>A00002</td>\n",
              "    </tr>\n",
              "    <tr>\n",
              "      <th>2</th>\n",
              "      <td>u11795</td>\n",
              "      <td>01/12/14 10:44</td>\n",
              "      <td>01/12/14 10:44</td>\n",
              "      <td>A00002/B00002/C00004/D12538/</td>\n",
              "      <td>1</td>\n",
              "      <td>A00002</td>\n",
              "      <td>B00002</td>\n",
              "      <td>1</td>\n",
              "      <td>1</td>\n",
              "      <td>A00002</td>\n",
              "    </tr>\n",
              "    <tr>\n",
              "      <th>3</th>\n",
              "      <td>u22639</td>\n",
              "      <td>08/12/14 20:19</td>\n",
              "      <td>08/12/14 20:22</td>\n",
              "      <td>A00002/B00003/C00079/D22781/;A00002/B00003/C00...</td>\n",
              "      <td>4</td>\n",
              "      <td>A00002</td>\n",
              "      <td>B00003</td>\n",
              "      <td>1</td>\n",
              "      <td>1</td>\n",
              "      <td>A00002</td>\n",
              "    </tr>\n",
              "    <tr>\n",
              "      <th>4</th>\n",
              "      <td>u18034</td>\n",
              "      <td>15/12/14 19:33</td>\n",
              "      <td>15/12/14 19:33</td>\n",
              "      <td>A00002/B00001/C00010/D23419/</td>\n",
              "      <td>1</td>\n",
              "      <td>A00002</td>\n",
              "      <td>B00001</td>\n",
              "      <td>1</td>\n",
              "      <td>1</td>\n",
              "      <td>A00002</td>\n",
              "    </tr>\n",
              "  </tbody>\n",
              "</table>\n",
              "</div>"
            ],
            "text/plain": [
              "  session_id       startTime         endTime  ... UniqueA  UniqueB   MostA\n",
              "0     u12112  08/12/14 13:36  08/12/14 13:36  ...       1        1  A00002\n",
              "1     u19725  19/12/14 13:52  19/12/14 13:52  ...       1        1  A00002\n",
              "2     u11795  01/12/14 10:44  01/12/14 10:44  ...       1        1  A00002\n",
              "3     u22639  08/12/14 20:19  08/12/14 20:22  ...       1        1  A00002\n",
              "4     u18034  15/12/14 19:33  15/12/14 19:33  ...       1        1  A00002\n",
              "\n",
              "[5 rows x 10 columns]"
            ]
          },
          "metadata": {
            "tags": []
          },
          "execution_count": 11
        }
      ]
    },
    {
      "cell_type": "code",
      "metadata": {
        "id": "6KBZCyEKFP9O",
        "colab_type": "code",
        "colab": {}
      },
      "source": [
        "def quater_of_the_day(date_of_element):\n",
        "    '''\n",
        "    Return the Quater of the day\n",
        "    '''\n",
        "    if((date_of_element % 6) == 0):\n",
        "        return (date_of_element // 6) - 1\n",
        "    else:\n",
        "        return date_of_element // 6"
      ],
      "execution_count": 0,
      "outputs": []
    },
    {
      "cell_type": "code",
      "metadata": {
        "id": "-PiF_nOjfh39",
        "colab_type": "code",
        "colab": {}
      },
      "source": [
        "def time_feature_extraction(df_object):\n",
        "    '''\n",
        "    Extract time features from the dataframe\n",
        "    '''\n",
        "    df_object['startTime'] = pd.to_datetime(df_object['startTime'], dayfirst=True)\n",
        "    df_object['endTime'] = pd.to_datetime(df_object['endTime'], dayfirst=True)\n",
        "    df_object['duration'] = df_object['endTime'] - df_object['startTime']\n",
        "    df_object['duration'] = df_object['duration'].astype('timedelta64[m]')\n",
        "    df_object['weekday'] = df_object['startTime'].dt.dayofweek\n",
        "    df_object['hour_24h'] = df_object['startTime'].dt.hour\n",
        "    df_object['quater_of_the day'] = df_object['hour_24h'].apply(lambda x: quater_of_the_day(x))"
      ],
      "execution_count": 0,
      "outputs": []
    },
    {
      "cell_type": "code",
      "metadata": {
        "id": "1jCqcHlChm2z",
        "colab_type": "code",
        "colab": {}
      },
      "source": [
        "time_feature_extraction(data)"
      ],
      "execution_count": 0,
      "outputs": []
    },
    {
      "cell_type": "code",
      "metadata": {
        "id": "9g819Vn0h6vd",
        "colab_type": "code",
        "colab": {}
      },
      "source": [
        "time_feature_extraction(test_data)"
      ],
      "execution_count": 0,
      "outputs": []
    },
    {
      "cell_type": "code",
      "metadata": {
        "id": "Stz-tJ8xFQ8M",
        "colab_type": "code",
        "outputId": "f829fdf4-0ece-43a2-cd65-7795dd102f90",
        "colab": {
          "base_uri": "https://localhost:8080/",
          "height": 468
        }
      },
      "source": [
        "data.sample(9)"
      ],
      "execution_count": 0,
      "outputs": [
        {
          "output_type": "execute_result",
          "data": {
            "text/html": [
              "<div>\n",
              "<style scoped>\n",
              "    .dataframe tbody tr th:only-of-type {\n",
              "        vertical-align: middle;\n",
              "    }\n",
              "\n",
              "    .dataframe tbody tr th {\n",
              "        vertical-align: top;\n",
              "    }\n",
              "\n",
              "    .dataframe thead th {\n",
              "        text-align: right;\n",
              "    }\n",
              "</style>\n",
              "<table border=\"1\" class=\"dataframe\">\n",
              "  <thead>\n",
              "    <tr style=\"text-align: right;\">\n",
              "      <th></th>\n",
              "      <th>session_id</th>\n",
              "      <th>startTime</th>\n",
              "      <th>endTime</th>\n",
              "      <th>ProductList</th>\n",
              "      <th>gender</th>\n",
              "      <th>NumProduct</th>\n",
              "      <th>FirstA</th>\n",
              "      <th>FirstB</th>\n",
              "      <th>UniqueA</th>\n",
              "      <th>UniqueB</th>\n",
              "      <th>MostA</th>\n",
              "      <th>duration</th>\n",
              "      <th>weekday</th>\n",
              "      <th>hour_24h</th>\n",
              "      <th>quater_of_the day</th>\n",
              "    </tr>\n",
              "  </thead>\n",
              "  <tbody>\n",
              "    <tr>\n",
              "      <th>3223</th>\n",
              "      <td>u12318</td>\n",
              "      <td>2014-11-14 17:31:00</td>\n",
              "      <td>2014-11-14 17:33:00</td>\n",
              "      <td>A00002/B00016/C00044/D00958/;A00002/B00016/C00...</td>\n",
              "      <td>female</td>\n",
              "      <td>2</td>\n",
              "      <td>A00002</td>\n",
              "      <td>B00016</td>\n",
              "      <td>1</td>\n",
              "      <td>1</td>\n",
              "      <td>A00002</td>\n",
              "      <td>2.0</td>\n",
              "      <td>4</td>\n",
              "      <td>17</td>\n",
              "      <td>2</td>\n",
              "    </tr>\n",
              "    <tr>\n",
              "      <th>1458</th>\n",
              "      <td>u19007</td>\n",
              "      <td>2014-11-26 22:24:00</td>\n",
              "      <td>2014-11-26 22:25:00</td>\n",
              "      <td>A00002/B00002/C00007/D00582/</td>\n",
              "      <td>female</td>\n",
              "      <td>1</td>\n",
              "      <td>A00002</td>\n",
              "      <td>B00002</td>\n",
              "      <td>1</td>\n",
              "      <td>1</td>\n",
              "      <td>A00002</td>\n",
              "      <td>1.0</td>\n",
              "      <td>2</td>\n",
              "      <td>22</td>\n",
              "      <td>3</td>\n",
              "    </tr>\n",
              "    <tr>\n",
              "      <th>10046</th>\n",
              "      <td>u19112</td>\n",
              "      <td>2014-12-13 14:39:00</td>\n",
              "      <td>2014-12-13 14:42:00</td>\n",
              "      <td>A00003/B00026/C00286/D26081/;A00003/B00079/C00...</td>\n",
              "      <td>female</td>\n",
              "      <td>3</td>\n",
              "      <td>A00003</td>\n",
              "      <td>B00026</td>\n",
              "      <td>1</td>\n",
              "      <td>2</td>\n",
              "      <td>A00003</td>\n",
              "      <td>3.0</td>\n",
              "      <td>5</td>\n",
              "      <td>14</td>\n",
              "      <td>2</td>\n",
              "    </tr>\n",
              "    <tr>\n",
              "      <th>9854</th>\n",
              "      <td>u23467</td>\n",
              "      <td>2014-12-13 12:47:00</td>\n",
              "      <td>2014-12-13 12:47:00</td>\n",
              "      <td>A00002/B00002/C00002/D00499/</td>\n",
              "      <td>female</td>\n",
              "      <td>1</td>\n",
              "      <td>A00002</td>\n",
              "      <td>B00002</td>\n",
              "      <td>1</td>\n",
              "      <td>1</td>\n",
              "      <td>A00002</td>\n",
              "      <td>0.0</td>\n",
              "      <td>5</td>\n",
              "      <td>12</td>\n",
              "      <td>1</td>\n",
              "    </tr>\n",
              "    <tr>\n",
              "      <th>8741</th>\n",
              "      <td>u24105</td>\n",
              "      <td>2014-12-18 15:18:00</td>\n",
              "      <td>2014-12-18 15:23:00</td>\n",
              "      <td>A00002/B00003/C00005/D03126/;A00002/B00004/C00...</td>\n",
              "      <td>female</td>\n",
              "      <td>4</td>\n",
              "      <td>A00002</td>\n",
              "      <td>B00003</td>\n",
              "      <td>2</td>\n",
              "      <td>2</td>\n",
              "      <td>A00002</td>\n",
              "      <td>5.0</td>\n",
              "      <td>3</td>\n",
              "      <td>15</td>\n",
              "      <td>2</td>\n",
              "    </tr>\n",
              "    <tr>\n",
              "      <th>10219</th>\n",
              "      <td>u14232</td>\n",
              "      <td>2014-12-09 09:23:00</td>\n",
              "      <td>2014-12-09 09:24:00</td>\n",
              "      <td>A00002/B00001/C00059/D14203/;A00002/B00001/C00...</td>\n",
              "      <td>female</td>\n",
              "      <td>2</td>\n",
              "      <td>A00002</td>\n",
              "      <td>B00001</td>\n",
              "      <td>1</td>\n",
              "      <td>1</td>\n",
              "      <td>A00002</td>\n",
              "      <td>1.0</td>\n",
              "      <td>1</td>\n",
              "      <td>9</td>\n",
              "      <td>1</td>\n",
              "    </tr>\n",
              "    <tr>\n",
              "      <th>576</th>\n",
              "      <td>u21218</td>\n",
              "      <td>2014-12-09 13:31:00</td>\n",
              "      <td>2014-12-09 13:31:00</td>\n",
              "      <td>A00001/B00001/C00019/D01508/</td>\n",
              "      <td>male</td>\n",
              "      <td>1</td>\n",
              "      <td>A00001</td>\n",
              "      <td>B00001</td>\n",
              "      <td>1</td>\n",
              "      <td>1</td>\n",
              "      <td>A00001</td>\n",
              "      <td>0.0</td>\n",
              "      <td>1</td>\n",
              "      <td>13</td>\n",
              "      <td>2</td>\n",
              "    </tr>\n",
              "    <tr>\n",
              "      <th>2442</th>\n",
              "      <td>u11801</td>\n",
              "      <td>2014-12-02 09:17:00</td>\n",
              "      <td>2014-12-02 09:18:00</td>\n",
              "      <td>A00002/B00002/C00004/D17591/</td>\n",
              "      <td>female</td>\n",
              "      <td>1</td>\n",
              "      <td>A00002</td>\n",
              "      <td>B00002</td>\n",
              "      <td>1</td>\n",
              "      <td>1</td>\n",
              "      <td>A00002</td>\n",
              "      <td>1.0</td>\n",
              "      <td>1</td>\n",
              "      <td>9</td>\n",
              "      <td>1</td>\n",
              "    </tr>\n",
              "    <tr>\n",
              "      <th>1644</th>\n",
              "      <td>u18469</td>\n",
              "      <td>2014-12-17 15:14:00</td>\n",
              "      <td>2014-12-17 15:14:00</td>\n",
              "      <td>A00003/B00012/C00028/D00281/</td>\n",
              "      <td>female</td>\n",
              "      <td>1</td>\n",
              "      <td>A00003</td>\n",
              "      <td>B00012</td>\n",
              "      <td>1</td>\n",
              "      <td>1</td>\n",
              "      <td>A00003</td>\n",
              "      <td>0.0</td>\n",
              "      <td>2</td>\n",
              "      <td>15</td>\n",
              "      <td>2</td>\n",
              "    </tr>\n",
              "  </tbody>\n",
              "</table>\n",
              "</div>"
            ],
            "text/plain": [
              "      session_id           startTime  ... hour_24h quater_of_the day\n",
              "3223      u12318 2014-11-14 17:31:00  ...       17                 2\n",
              "1458      u19007 2014-11-26 22:24:00  ...       22                 3\n",
              "10046     u19112 2014-12-13 14:39:00  ...       14                 2\n",
              "9854      u23467 2014-12-13 12:47:00  ...       12                 1\n",
              "8741      u24105 2014-12-18 15:18:00  ...       15                 2\n",
              "10219     u14232 2014-12-09 09:23:00  ...        9                 1\n",
              "576       u21218 2014-12-09 13:31:00  ...       13                 2\n",
              "2442      u11801 2014-12-02 09:17:00  ...        9                 1\n",
              "1644      u18469 2014-12-17 15:14:00  ...       15                 2\n",
              "\n",
              "[9 rows x 15 columns]"
            ]
          },
          "metadata": {
            "tags": []
          },
          "execution_count": 16
        }
      ]
    },
    {
      "cell_type": "code",
      "metadata": {
        "id": "P2bKakJ2IHIM",
        "colab_type": "code",
        "outputId": "1ab990c8-1066-4ecd-c02a-0b030ee9b012",
        "colab": {
          "base_uri": "https://localhost:8080/",
          "height": 306
        }
      },
      "source": [
        "test_data.sample(9)"
      ],
      "execution_count": 0,
      "outputs": [
        {
          "output_type": "execute_result",
          "data": {
            "text/html": [
              "<div>\n",
              "<style scoped>\n",
              "    .dataframe tbody tr th:only-of-type {\n",
              "        vertical-align: middle;\n",
              "    }\n",
              "\n",
              "    .dataframe tbody tr th {\n",
              "        vertical-align: top;\n",
              "    }\n",
              "\n",
              "    .dataframe thead th {\n",
              "        text-align: right;\n",
              "    }\n",
              "</style>\n",
              "<table border=\"1\" class=\"dataframe\">\n",
              "  <thead>\n",
              "    <tr style=\"text-align: right;\">\n",
              "      <th></th>\n",
              "      <th>session_id</th>\n",
              "      <th>startTime</th>\n",
              "      <th>endTime</th>\n",
              "      <th>ProductList</th>\n",
              "      <th>NumProduct</th>\n",
              "      <th>FirstA</th>\n",
              "      <th>FirstB</th>\n",
              "      <th>UniqueA</th>\n",
              "      <th>UniqueB</th>\n",
              "      <th>MostA</th>\n",
              "      <th>duration</th>\n",
              "      <th>weekday</th>\n",
              "      <th>hour_24h</th>\n",
              "      <th>quater_of_the day</th>\n",
              "    </tr>\n",
              "  </thead>\n",
              "  <tbody>\n",
              "    <tr>\n",
              "      <th>778</th>\n",
              "      <td>u13504</td>\n",
              "      <td>2014-12-08 11:06:00</td>\n",
              "      <td>2014-12-08 11:06:00</td>\n",
              "      <td>A00002/B00002/C00003/D14167/</td>\n",
              "      <td>1</td>\n",
              "      <td>A00002</td>\n",
              "      <td>B00002</td>\n",
              "      <td>1</td>\n",
              "      <td>1</td>\n",
              "      <td>A00002</td>\n",
              "      <td>0.0</td>\n",
              "      <td>0</td>\n",
              "      <td>11</td>\n",
              "      <td>1</td>\n",
              "    </tr>\n",
              "    <tr>\n",
              "      <th>3177</th>\n",
              "      <td>u22675</td>\n",
              "      <td>2014-12-08 22:03:00</td>\n",
              "      <td>2014-12-08 22:03:00</td>\n",
              "      <td>A00002/B00002/C00003/D22944/</td>\n",
              "      <td>1</td>\n",
              "      <td>A00002</td>\n",
              "      <td>B00002</td>\n",
              "      <td>1</td>\n",
              "      <td>1</td>\n",
              "      <td>A00002</td>\n",
              "      <td>0.0</td>\n",
              "      <td>0</td>\n",
              "      <td>22</td>\n",
              "      <td>3</td>\n",
              "    </tr>\n",
              "    <tr>\n",
              "      <th>628</th>\n",
              "      <td>u24410</td>\n",
              "      <td>2014-12-18 10:11:00</td>\n",
              "      <td>2014-12-18 10:11:00</td>\n",
              "      <td>A00002/B00001/C00059/D24006/</td>\n",
              "      <td>1</td>\n",
              "      <td>A00002</td>\n",
              "      <td>B00001</td>\n",
              "      <td>1</td>\n",
              "      <td>1</td>\n",
              "      <td>A00002</td>\n",
              "      <td>0.0</td>\n",
              "      <td>3</td>\n",
              "      <td>10</td>\n",
              "      <td>1</td>\n",
              "    </tr>\n",
              "    <tr>\n",
              "      <th>757</th>\n",
              "      <td>u23008</td>\n",
              "      <td>2014-12-09 19:31:00</td>\n",
              "      <td>2014-12-09 19:31:00</td>\n",
              "      <td>A00002/B00002/C00003/D11934/</td>\n",
              "      <td>1</td>\n",
              "      <td>A00002</td>\n",
              "      <td>B00002</td>\n",
              "      <td>1</td>\n",
              "      <td>1</td>\n",
              "      <td>A00002</td>\n",
              "      <td>0.0</td>\n",
              "      <td>1</td>\n",
              "      <td>19</td>\n",
              "      <td>3</td>\n",
              "    </tr>\n",
              "    <tr>\n",
              "      <th>951</th>\n",
              "      <td>u24387</td>\n",
              "      <td>2014-12-18 09:23:00</td>\n",
              "      <td>2014-12-18 10:38:00</td>\n",
              "      <td>A00003/B00028/C00086/D31294/;A00003/B00028/C00...</td>\n",
              "      <td>5</td>\n",
              "      <td>A00003</td>\n",
              "      <td>B00028</td>\n",
              "      <td>1</td>\n",
              "      <td>2</td>\n",
              "      <td>A00003</td>\n",
              "      <td>75.0</td>\n",
              "      <td>3</td>\n",
              "      <td>9</td>\n",
              "      <td>1</td>\n",
              "    </tr>\n",
              "    <tr>\n",
              "      <th>2556</th>\n",
              "      <td>u14980</td>\n",
              "      <td>2014-11-16 22:11:00</td>\n",
              "      <td>2014-11-16 22:11:00</td>\n",
              "      <td>A00001/B00001/C00019/D04658/</td>\n",
              "      <td>1</td>\n",
              "      <td>A00001</td>\n",
              "      <td>B00001</td>\n",
              "      <td>1</td>\n",
              "      <td>1</td>\n",
              "      <td>A00001</td>\n",
              "      <td>0.0</td>\n",
              "      <td>6</td>\n",
              "      <td>22</td>\n",
              "      <td>3</td>\n",
              "    </tr>\n",
              "    <tr>\n",
              "      <th>2411</th>\n",
              "      <td>u15484</td>\n",
              "      <td>2014-12-01 09:33:00</td>\n",
              "      <td>2014-12-01 09:38:00</td>\n",
              "      <td>A00002/B00002/C00007/D16394/;A00002/B00002/C00...</td>\n",
              "      <td>4</td>\n",
              "      <td>A00002</td>\n",
              "      <td>B00002</td>\n",
              "      <td>1</td>\n",
              "      <td>1</td>\n",
              "      <td>A00002</td>\n",
              "      <td>5.0</td>\n",
              "      <td>0</td>\n",
              "      <td>9</td>\n",
              "      <td>1</td>\n",
              "    </tr>\n",
              "    <tr>\n",
              "      <th>1740</th>\n",
              "      <td>u16168</td>\n",
              "      <td>2014-12-12 12:21:00</td>\n",
              "      <td>2014-12-12 12:21:00</td>\n",
              "      <td>A00002/B00006/C00015/D01259/</td>\n",
              "      <td>1</td>\n",
              "      <td>A00002</td>\n",
              "      <td>B00006</td>\n",
              "      <td>1</td>\n",
              "      <td>1</td>\n",
              "      <td>A00002</td>\n",
              "      <td>0.0</td>\n",
              "      <td>4</td>\n",
              "      <td>12</td>\n",
              "      <td>1</td>\n",
              "    </tr>\n",
              "    <tr>\n",
              "      <th>247</th>\n",
              "      <td>u19002</td>\n",
              "      <td>2014-11-26 21:03:00</td>\n",
              "      <td>2014-11-26 21:03:00</td>\n",
              "      <td>A00002/B00001/C00059/D12608/</td>\n",
              "      <td>1</td>\n",
              "      <td>A00002</td>\n",
              "      <td>B00001</td>\n",
              "      <td>1</td>\n",
              "      <td>1</td>\n",
              "      <td>A00002</td>\n",
              "      <td>0.0</td>\n",
              "      <td>2</td>\n",
              "      <td>21</td>\n",
              "      <td>3</td>\n",
              "    </tr>\n",
              "  </tbody>\n",
              "</table>\n",
              "</div>"
            ],
            "text/plain": [
              "     session_id           startTime  ... hour_24h quater_of_the day\n",
              "778      u13504 2014-12-08 11:06:00  ...       11                 1\n",
              "3177     u22675 2014-12-08 22:03:00  ...       22                 3\n",
              "628      u24410 2014-12-18 10:11:00  ...       10                 1\n",
              "757      u23008 2014-12-09 19:31:00  ...       19                 3\n",
              "951      u24387 2014-12-18 09:23:00  ...        9                 1\n",
              "2556     u14980 2014-11-16 22:11:00  ...       22                 3\n",
              "2411     u15484 2014-12-01 09:33:00  ...        9                 1\n",
              "1740     u16168 2014-12-12 12:21:00  ...       12                 1\n",
              "247      u19002 2014-11-26 21:03:00  ...       21                 3\n",
              "\n",
              "[9 rows x 14 columns]"
            ]
          },
          "metadata": {
            "tags": []
          },
          "execution_count": 17
        }
      ]
    },
    {
      "cell_type": "code",
      "metadata": {
        "id": "D2Krq5mLJrkk",
        "colab_type": "code",
        "colab": {}
      },
      "source": [
        "# Droping extra columns now\n",
        "\n",
        "data.drop(['session_id', 'startTime', 'endTime', 'ProductList'], axis=1, inplace=True)\n",
        "test_data.drop(['session_id', 'startTime', 'endTime', 'ProductList'], axis=1, inplace=True)"
      ],
      "execution_count": 0,
      "outputs": []
    },
    {
      "cell_type": "code",
      "metadata": {
        "id": "gG2lmgLSKMDv",
        "colab_type": "code",
        "outputId": "d6bc81ba-12ae-483c-96a3-331364f2c5ef",
        "colab": {
          "base_uri": "https://localhost:8080/",
          "height": 191
        }
      },
      "source": [
        "data.head()"
      ],
      "execution_count": 0,
      "outputs": [
        {
          "output_type": "execute_result",
          "data": {
            "text/html": [
              "<div>\n",
              "<style scoped>\n",
              "    .dataframe tbody tr th:only-of-type {\n",
              "        vertical-align: middle;\n",
              "    }\n",
              "\n",
              "    .dataframe tbody tr th {\n",
              "        vertical-align: top;\n",
              "    }\n",
              "\n",
              "    .dataframe thead th {\n",
              "        text-align: right;\n",
              "    }\n",
              "</style>\n",
              "<table border=\"1\" class=\"dataframe\">\n",
              "  <thead>\n",
              "    <tr style=\"text-align: right;\">\n",
              "      <th></th>\n",
              "      <th>gender</th>\n",
              "      <th>NumProduct</th>\n",
              "      <th>FirstA</th>\n",
              "      <th>FirstB</th>\n",
              "      <th>UniqueA</th>\n",
              "      <th>UniqueB</th>\n",
              "      <th>MostA</th>\n",
              "      <th>duration</th>\n",
              "      <th>weekday</th>\n",
              "      <th>hour_24h</th>\n",
              "      <th>quater_of_the day</th>\n",
              "    </tr>\n",
              "  </thead>\n",
              "  <tbody>\n",
              "    <tr>\n",
              "      <th>0</th>\n",
              "      <td>female</td>\n",
              "      <td>4</td>\n",
              "      <td>A00002</td>\n",
              "      <td>B00003</td>\n",
              "      <td>1</td>\n",
              "      <td>1</td>\n",
              "      <td>A00002</td>\n",
              "      <td>1.0</td>\n",
              "      <td>0</td>\n",
              "      <td>18</td>\n",
              "      <td>2</td>\n",
              "    </tr>\n",
              "    <tr>\n",
              "      <th>1</th>\n",
              "      <td>male</td>\n",
              "      <td>7</td>\n",
              "      <td>A00001</td>\n",
              "      <td>B00009</td>\n",
              "      <td>1</td>\n",
              "      <td>1</td>\n",
              "      <td>A00001</td>\n",
              "      <td>6.0</td>\n",
              "      <td>1</td>\n",
              "      <td>14</td>\n",
              "      <td>2</td>\n",
              "    </tr>\n",
              "    <tr>\n",
              "      <th>2</th>\n",
              "      <td>female</td>\n",
              "      <td>1</td>\n",
              "      <td>A00002</td>\n",
              "      <td>B00001</td>\n",
              "      <td>1</td>\n",
              "      <td>1</td>\n",
              "      <td>A00002</td>\n",
              "      <td>0.0</td>\n",
              "      <td>0</td>\n",
              "      <td>15</td>\n",
              "      <td>2</td>\n",
              "    </tr>\n",
              "    <tr>\n",
              "      <th>3</th>\n",
              "      <td>female</td>\n",
              "      <td>3</td>\n",
              "      <td>A00002</td>\n",
              "      <td>B00004</td>\n",
              "      <td>1</td>\n",
              "      <td>1</td>\n",
              "      <td>A00002</td>\n",
              "      <td>3.0</td>\n",
              "      <td>6</td>\n",
              "      <td>2</td>\n",
              "      <td>0</td>\n",
              "    </tr>\n",
              "    <tr>\n",
              "      <th>4</th>\n",
              "      <td>male</td>\n",
              "      <td>2</td>\n",
              "      <td>A00001</td>\n",
              "      <td>B00001</td>\n",
              "      <td>1</td>\n",
              "      <td>1</td>\n",
              "      <td>A00001</td>\n",
              "      <td>2.0</td>\n",
              "      <td>2</td>\n",
              "      <td>16</td>\n",
              "      <td>2</td>\n",
              "    </tr>\n",
              "  </tbody>\n",
              "</table>\n",
              "</div>"
            ],
            "text/plain": [
              "   gender  NumProduct  FirstA  ... weekday  hour_24h  quater_of_the day\n",
              "0  female           4  A00002  ...       0        18                  2\n",
              "1    male           7  A00001  ...       1        14                  2\n",
              "2  female           1  A00002  ...       0        15                  2\n",
              "3  female           3  A00002  ...       6         2                  0\n",
              "4    male           2  A00001  ...       2        16                  2\n",
              "\n",
              "[5 rows x 11 columns]"
            ]
          },
          "metadata": {
            "tags": []
          },
          "execution_count": 19
        }
      ]
    },
    {
      "cell_type": "code",
      "metadata": {
        "id": "_71JTb2tKNiy",
        "colab_type": "code",
        "outputId": "06e03221-8fef-44bb-90a2-c39387d8cf79",
        "colab": {
          "base_uri": "https://localhost:8080/",
          "height": 191
        }
      },
      "source": [
        "test_data.head()"
      ],
      "execution_count": 0,
      "outputs": [
        {
          "output_type": "execute_result",
          "data": {
            "text/html": [
              "<div>\n",
              "<style scoped>\n",
              "    .dataframe tbody tr th:only-of-type {\n",
              "        vertical-align: middle;\n",
              "    }\n",
              "\n",
              "    .dataframe tbody tr th {\n",
              "        vertical-align: top;\n",
              "    }\n",
              "\n",
              "    .dataframe thead th {\n",
              "        text-align: right;\n",
              "    }\n",
              "</style>\n",
              "<table border=\"1\" class=\"dataframe\">\n",
              "  <thead>\n",
              "    <tr style=\"text-align: right;\">\n",
              "      <th></th>\n",
              "      <th>NumProduct</th>\n",
              "      <th>FirstA</th>\n",
              "      <th>FirstB</th>\n",
              "      <th>UniqueA</th>\n",
              "      <th>UniqueB</th>\n",
              "      <th>MostA</th>\n",
              "      <th>duration</th>\n",
              "      <th>weekday</th>\n",
              "      <th>hour_24h</th>\n",
              "      <th>quater_of_the day</th>\n",
              "    </tr>\n",
              "  </thead>\n",
              "  <tbody>\n",
              "    <tr>\n",
              "      <th>0</th>\n",
              "      <td>1</td>\n",
              "      <td>A00002</td>\n",
              "      <td>B00003</td>\n",
              "      <td>1</td>\n",
              "      <td>1</td>\n",
              "      <td>A00002</td>\n",
              "      <td>0.0</td>\n",
              "      <td>0</td>\n",
              "      <td>13</td>\n",
              "      <td>2</td>\n",
              "    </tr>\n",
              "    <tr>\n",
              "      <th>1</th>\n",
              "      <td>1</td>\n",
              "      <td>A00002</td>\n",
              "      <td>B00005</td>\n",
              "      <td>1</td>\n",
              "      <td>1</td>\n",
              "      <td>A00002</td>\n",
              "      <td>0.0</td>\n",
              "      <td>4</td>\n",
              "      <td>13</td>\n",
              "      <td>2</td>\n",
              "    </tr>\n",
              "    <tr>\n",
              "      <th>2</th>\n",
              "      <td>1</td>\n",
              "      <td>A00002</td>\n",
              "      <td>B00002</td>\n",
              "      <td>1</td>\n",
              "      <td>1</td>\n",
              "      <td>A00002</td>\n",
              "      <td>0.0</td>\n",
              "      <td>0</td>\n",
              "      <td>10</td>\n",
              "      <td>1</td>\n",
              "    </tr>\n",
              "    <tr>\n",
              "      <th>3</th>\n",
              "      <td>4</td>\n",
              "      <td>A00002</td>\n",
              "      <td>B00003</td>\n",
              "      <td>1</td>\n",
              "      <td>1</td>\n",
              "      <td>A00002</td>\n",
              "      <td>3.0</td>\n",
              "      <td>0</td>\n",
              "      <td>20</td>\n",
              "      <td>3</td>\n",
              "    </tr>\n",
              "    <tr>\n",
              "      <th>4</th>\n",
              "      <td>1</td>\n",
              "      <td>A00002</td>\n",
              "      <td>B00001</td>\n",
              "      <td>1</td>\n",
              "      <td>1</td>\n",
              "      <td>A00002</td>\n",
              "      <td>0.0</td>\n",
              "      <td>0</td>\n",
              "      <td>19</td>\n",
              "      <td>3</td>\n",
              "    </tr>\n",
              "  </tbody>\n",
              "</table>\n",
              "</div>"
            ],
            "text/plain": [
              "   NumProduct  FirstA  FirstB  ...  weekday  hour_24h quater_of_the day\n",
              "0           1  A00002  B00003  ...        0        13                 2\n",
              "1           1  A00002  B00005  ...        4        13                 2\n",
              "2           1  A00002  B00002  ...        0        10                 1\n",
              "3           4  A00002  B00003  ...        0        20                 3\n",
              "4           1  A00002  B00001  ...        0        19                 3\n",
              "\n",
              "[5 rows x 10 columns]"
            ]
          },
          "metadata": {
            "tags": []
          },
          "execution_count": 20
        }
      ]
    },
    {
      "cell_type": "code",
      "metadata": {
        "id": "6iHndmxHKo7T",
        "colab_type": "code",
        "colab": {}
      },
      "source": [
        "data['gender'] = data['gender'].astype('category')"
      ],
      "execution_count": 0,
      "outputs": []
    },
    {
      "cell_type": "code",
      "metadata": {
        "id": "UGbRujJfKPR6",
        "colab_type": "code",
        "outputId": "76621e91-cc4a-4b47-cca8-4ed48062ddd2",
        "colab": {
          "base_uri": "https://localhost:8080/",
          "height": 33
        }
      },
      "source": [
        "# Encoding target column\n",
        "label_encoder_gender = LabelEncoder()\n",
        "label_encoder_gender.fit(data['gender'].unique())"
      ],
      "execution_count": 0,
      "outputs": [
        {
          "output_type": "execute_result",
          "data": {
            "text/plain": [
              "LabelEncoder()"
            ]
          },
          "metadata": {
            "tags": []
          },
          "execution_count": 22
        }
      ]
    },
    {
      "cell_type": "code",
      "metadata": {
        "id": "RXk6fHoAKlYL",
        "colab_type": "code",
        "outputId": "794f5740-6e58-4371-ffb1-62f420297431",
        "colab": {
          "base_uri": "https://localhost:8080/",
          "height": 33
        }
      },
      "source": [
        "# checking number of classes to encode\n",
        "\n",
        "label_encoder_gender.classes_"
      ],
      "execution_count": 0,
      "outputs": [
        {
          "output_type": "execute_result",
          "data": {
            "text/plain": [
              "array(['female', 'male'], dtype=object)"
            ]
          },
          "metadata": {
            "tags": []
          },
          "execution_count": 23
        }
      ]
    },
    {
      "cell_type": "code",
      "metadata": {
        "id": "cGvjqIlsKl1X",
        "colab_type": "code",
        "colab": {}
      },
      "source": [
        "# Transforming target column\n",
        "\n",
        "data['encode_gender'] = label_encoder_gender.transform(data['gender'])"
      ],
      "execution_count": 0,
      "outputs": []
    },
    {
      "cell_type": "code",
      "metadata": {
        "id": "zAsfO7DcLb6P",
        "colab_type": "code",
        "outputId": "028d7a49-48cd-4cb1-d6e7-c90ee5a87ba1",
        "colab": {
          "base_uri": "https://localhost:8080/",
          "height": 191
        }
      },
      "source": [
        "data.head()"
      ],
      "execution_count": 0,
      "outputs": [
        {
          "output_type": "execute_result",
          "data": {
            "text/html": [
              "<div>\n",
              "<style scoped>\n",
              "    .dataframe tbody tr th:only-of-type {\n",
              "        vertical-align: middle;\n",
              "    }\n",
              "\n",
              "    .dataframe tbody tr th {\n",
              "        vertical-align: top;\n",
              "    }\n",
              "\n",
              "    .dataframe thead th {\n",
              "        text-align: right;\n",
              "    }\n",
              "</style>\n",
              "<table border=\"1\" class=\"dataframe\">\n",
              "  <thead>\n",
              "    <tr style=\"text-align: right;\">\n",
              "      <th></th>\n",
              "      <th>gender</th>\n",
              "      <th>NumProduct</th>\n",
              "      <th>FirstA</th>\n",
              "      <th>FirstB</th>\n",
              "      <th>UniqueA</th>\n",
              "      <th>UniqueB</th>\n",
              "      <th>MostA</th>\n",
              "      <th>duration</th>\n",
              "      <th>weekday</th>\n",
              "      <th>hour_24h</th>\n",
              "      <th>quater_of_the day</th>\n",
              "      <th>encode_gender</th>\n",
              "    </tr>\n",
              "  </thead>\n",
              "  <tbody>\n",
              "    <tr>\n",
              "      <th>0</th>\n",
              "      <td>female</td>\n",
              "      <td>4</td>\n",
              "      <td>A00002</td>\n",
              "      <td>B00003</td>\n",
              "      <td>1</td>\n",
              "      <td>1</td>\n",
              "      <td>A00002</td>\n",
              "      <td>1.0</td>\n",
              "      <td>0</td>\n",
              "      <td>18</td>\n",
              "      <td>2</td>\n",
              "      <td>0</td>\n",
              "    </tr>\n",
              "    <tr>\n",
              "      <th>1</th>\n",
              "      <td>male</td>\n",
              "      <td>7</td>\n",
              "      <td>A00001</td>\n",
              "      <td>B00009</td>\n",
              "      <td>1</td>\n",
              "      <td>1</td>\n",
              "      <td>A00001</td>\n",
              "      <td>6.0</td>\n",
              "      <td>1</td>\n",
              "      <td>14</td>\n",
              "      <td>2</td>\n",
              "      <td>1</td>\n",
              "    </tr>\n",
              "    <tr>\n",
              "      <th>2</th>\n",
              "      <td>female</td>\n",
              "      <td>1</td>\n",
              "      <td>A00002</td>\n",
              "      <td>B00001</td>\n",
              "      <td>1</td>\n",
              "      <td>1</td>\n",
              "      <td>A00002</td>\n",
              "      <td>0.0</td>\n",
              "      <td>0</td>\n",
              "      <td>15</td>\n",
              "      <td>2</td>\n",
              "      <td>0</td>\n",
              "    </tr>\n",
              "    <tr>\n",
              "      <th>3</th>\n",
              "      <td>female</td>\n",
              "      <td>3</td>\n",
              "      <td>A00002</td>\n",
              "      <td>B00004</td>\n",
              "      <td>1</td>\n",
              "      <td>1</td>\n",
              "      <td>A00002</td>\n",
              "      <td>3.0</td>\n",
              "      <td>6</td>\n",
              "      <td>2</td>\n",
              "      <td>0</td>\n",
              "      <td>0</td>\n",
              "    </tr>\n",
              "    <tr>\n",
              "      <th>4</th>\n",
              "      <td>male</td>\n",
              "      <td>2</td>\n",
              "      <td>A00001</td>\n",
              "      <td>B00001</td>\n",
              "      <td>1</td>\n",
              "      <td>1</td>\n",
              "      <td>A00001</td>\n",
              "      <td>2.0</td>\n",
              "      <td>2</td>\n",
              "      <td>16</td>\n",
              "      <td>2</td>\n",
              "      <td>1</td>\n",
              "    </tr>\n",
              "  </tbody>\n",
              "</table>\n",
              "</div>"
            ],
            "text/plain": [
              "   gender  NumProduct  FirstA  ... hour_24h  quater_of_the day  encode_gender\n",
              "0  female           4  A00002  ...       18                  2              0\n",
              "1    male           7  A00001  ...       14                  2              1\n",
              "2  female           1  A00002  ...       15                  2              0\n",
              "3  female           3  A00002  ...        2                  0              0\n",
              "4    male           2  A00001  ...       16                  2              1\n",
              "\n",
              "[5 rows x 12 columns]"
            ]
          },
          "metadata": {
            "tags": []
          },
          "execution_count": 25
        }
      ]
    },
    {
      "cell_type": "code",
      "metadata": {
        "id": "ucxe_iVrLdXM",
        "colab_type": "code",
        "colab": {}
      },
      "source": [
        "# Dropping gender column\n",
        "data.drop('gender', axis=1, inplace=True)"
      ],
      "execution_count": 0,
      "outputs": []
    },
    {
      "cell_type": "code",
      "metadata": {
        "id": "k-KQLeklLkHe",
        "colab_type": "code",
        "outputId": "d93928fd-129e-4c7c-a8d9-50194636b43b",
        "colab": {
          "base_uri": "https://localhost:8080/",
          "height": 191
        }
      },
      "source": [
        "data.head()"
      ],
      "execution_count": 0,
      "outputs": [
        {
          "output_type": "execute_result",
          "data": {
            "text/html": [
              "<div>\n",
              "<style scoped>\n",
              "    .dataframe tbody tr th:only-of-type {\n",
              "        vertical-align: middle;\n",
              "    }\n",
              "\n",
              "    .dataframe tbody tr th {\n",
              "        vertical-align: top;\n",
              "    }\n",
              "\n",
              "    .dataframe thead th {\n",
              "        text-align: right;\n",
              "    }\n",
              "</style>\n",
              "<table border=\"1\" class=\"dataframe\">\n",
              "  <thead>\n",
              "    <tr style=\"text-align: right;\">\n",
              "      <th></th>\n",
              "      <th>NumProduct</th>\n",
              "      <th>FirstA</th>\n",
              "      <th>FirstB</th>\n",
              "      <th>UniqueA</th>\n",
              "      <th>UniqueB</th>\n",
              "      <th>MostA</th>\n",
              "      <th>duration</th>\n",
              "      <th>weekday</th>\n",
              "      <th>hour_24h</th>\n",
              "      <th>quater_of_the day</th>\n",
              "      <th>encode_gender</th>\n",
              "    </tr>\n",
              "  </thead>\n",
              "  <tbody>\n",
              "    <tr>\n",
              "      <th>0</th>\n",
              "      <td>4</td>\n",
              "      <td>A00002</td>\n",
              "      <td>B00003</td>\n",
              "      <td>1</td>\n",
              "      <td>1</td>\n",
              "      <td>A00002</td>\n",
              "      <td>1.0</td>\n",
              "      <td>0</td>\n",
              "      <td>18</td>\n",
              "      <td>2</td>\n",
              "      <td>0</td>\n",
              "    </tr>\n",
              "    <tr>\n",
              "      <th>1</th>\n",
              "      <td>7</td>\n",
              "      <td>A00001</td>\n",
              "      <td>B00009</td>\n",
              "      <td>1</td>\n",
              "      <td>1</td>\n",
              "      <td>A00001</td>\n",
              "      <td>6.0</td>\n",
              "      <td>1</td>\n",
              "      <td>14</td>\n",
              "      <td>2</td>\n",
              "      <td>1</td>\n",
              "    </tr>\n",
              "    <tr>\n",
              "      <th>2</th>\n",
              "      <td>1</td>\n",
              "      <td>A00002</td>\n",
              "      <td>B00001</td>\n",
              "      <td>1</td>\n",
              "      <td>1</td>\n",
              "      <td>A00002</td>\n",
              "      <td>0.0</td>\n",
              "      <td>0</td>\n",
              "      <td>15</td>\n",
              "      <td>2</td>\n",
              "      <td>0</td>\n",
              "    </tr>\n",
              "    <tr>\n",
              "      <th>3</th>\n",
              "      <td>3</td>\n",
              "      <td>A00002</td>\n",
              "      <td>B00004</td>\n",
              "      <td>1</td>\n",
              "      <td>1</td>\n",
              "      <td>A00002</td>\n",
              "      <td>3.0</td>\n",
              "      <td>6</td>\n",
              "      <td>2</td>\n",
              "      <td>0</td>\n",
              "      <td>0</td>\n",
              "    </tr>\n",
              "    <tr>\n",
              "      <th>4</th>\n",
              "      <td>2</td>\n",
              "      <td>A00001</td>\n",
              "      <td>B00001</td>\n",
              "      <td>1</td>\n",
              "      <td>1</td>\n",
              "      <td>A00001</td>\n",
              "      <td>2.0</td>\n",
              "      <td>2</td>\n",
              "      <td>16</td>\n",
              "      <td>2</td>\n",
              "      <td>1</td>\n",
              "    </tr>\n",
              "  </tbody>\n",
              "</table>\n",
              "</div>"
            ],
            "text/plain": [
              "   NumProduct  FirstA  FirstB  ...  hour_24h  quater_of_the day encode_gender\n",
              "0           4  A00002  B00003  ...        18                  2             0\n",
              "1           7  A00001  B00009  ...        14                  2             1\n",
              "2           1  A00002  B00001  ...        15                  2             0\n",
              "3           3  A00002  B00004  ...         2                  0             0\n",
              "4           2  A00001  B00001  ...        16                  2             1\n",
              "\n",
              "[5 rows x 11 columns]"
            ]
          },
          "metadata": {
            "tags": []
          },
          "execution_count": 27
        }
      ]
    },
    {
      "cell_type": "code",
      "metadata": {
        "id": "jK8sSgTHL4Pd",
        "colab_type": "code",
        "colab": {}
      },
      "source": [
        "# Creating the OneHotEncoder object to perform one hot encoding on df\n",
        "one_hot_encoder =  OneHotEncoder(sparse=False, handle_unknown='ignore')"
      ],
      "execution_count": 0,
      "outputs": []
    },
    {
      "cell_type": "code",
      "metadata": {
        "id": "XOTnN54IM7NM",
        "colab_type": "code",
        "colab": {}
      },
      "source": [
        "# Target column\n",
        "y = data.pop('encode_gender')"
      ],
      "execution_count": 0,
      "outputs": []
    },
    {
      "cell_type": "code",
      "metadata": {
        "id": "ThKEZaHyN86f",
        "colab_type": "code",
        "outputId": "e71b83b1-4f3a-4ea8-db4f-56ea7d01ab6a",
        "colab": {
          "base_uri": "https://localhost:8080/",
          "height": 191
        }
      },
      "source": [
        "data.head()"
      ],
      "execution_count": 0,
      "outputs": [
        {
          "output_type": "execute_result",
          "data": {
            "text/html": [
              "<div>\n",
              "<style scoped>\n",
              "    .dataframe tbody tr th:only-of-type {\n",
              "        vertical-align: middle;\n",
              "    }\n",
              "\n",
              "    .dataframe tbody tr th {\n",
              "        vertical-align: top;\n",
              "    }\n",
              "\n",
              "    .dataframe thead th {\n",
              "        text-align: right;\n",
              "    }\n",
              "</style>\n",
              "<table border=\"1\" class=\"dataframe\">\n",
              "  <thead>\n",
              "    <tr style=\"text-align: right;\">\n",
              "      <th></th>\n",
              "      <th>NumProduct</th>\n",
              "      <th>FirstA</th>\n",
              "      <th>FirstB</th>\n",
              "      <th>UniqueA</th>\n",
              "      <th>UniqueB</th>\n",
              "      <th>MostA</th>\n",
              "      <th>duration</th>\n",
              "      <th>weekday</th>\n",
              "      <th>hour_24h</th>\n",
              "      <th>quater_of_the day</th>\n",
              "    </tr>\n",
              "  </thead>\n",
              "  <tbody>\n",
              "    <tr>\n",
              "      <th>0</th>\n",
              "      <td>4</td>\n",
              "      <td>A00002</td>\n",
              "      <td>B00003</td>\n",
              "      <td>1</td>\n",
              "      <td>1</td>\n",
              "      <td>A00002</td>\n",
              "      <td>1.0</td>\n",
              "      <td>0</td>\n",
              "      <td>18</td>\n",
              "      <td>2</td>\n",
              "    </tr>\n",
              "    <tr>\n",
              "      <th>1</th>\n",
              "      <td>7</td>\n",
              "      <td>A00001</td>\n",
              "      <td>B00009</td>\n",
              "      <td>1</td>\n",
              "      <td>1</td>\n",
              "      <td>A00001</td>\n",
              "      <td>6.0</td>\n",
              "      <td>1</td>\n",
              "      <td>14</td>\n",
              "      <td>2</td>\n",
              "    </tr>\n",
              "    <tr>\n",
              "      <th>2</th>\n",
              "      <td>1</td>\n",
              "      <td>A00002</td>\n",
              "      <td>B00001</td>\n",
              "      <td>1</td>\n",
              "      <td>1</td>\n",
              "      <td>A00002</td>\n",
              "      <td>0.0</td>\n",
              "      <td>0</td>\n",
              "      <td>15</td>\n",
              "      <td>2</td>\n",
              "    </tr>\n",
              "    <tr>\n",
              "      <th>3</th>\n",
              "      <td>3</td>\n",
              "      <td>A00002</td>\n",
              "      <td>B00004</td>\n",
              "      <td>1</td>\n",
              "      <td>1</td>\n",
              "      <td>A00002</td>\n",
              "      <td>3.0</td>\n",
              "      <td>6</td>\n",
              "      <td>2</td>\n",
              "      <td>0</td>\n",
              "    </tr>\n",
              "    <tr>\n",
              "      <th>4</th>\n",
              "      <td>2</td>\n",
              "      <td>A00001</td>\n",
              "      <td>B00001</td>\n",
              "      <td>1</td>\n",
              "      <td>1</td>\n",
              "      <td>A00001</td>\n",
              "      <td>2.0</td>\n",
              "      <td>2</td>\n",
              "      <td>16</td>\n",
              "      <td>2</td>\n",
              "    </tr>\n",
              "  </tbody>\n",
              "</table>\n",
              "</div>"
            ],
            "text/plain": [
              "   NumProduct  FirstA  FirstB  ...  weekday  hour_24h quater_of_the day\n",
              "0           4  A00002  B00003  ...        0        18                 2\n",
              "1           7  A00001  B00009  ...        1        14                 2\n",
              "2           1  A00002  B00001  ...        0        15                 2\n",
              "3           3  A00002  B00004  ...        6         2                 0\n",
              "4           2  A00001  B00001  ...        2        16                 2\n",
              "\n",
              "[5 rows x 10 columns]"
            ]
          },
          "metadata": {
            "tags": []
          },
          "execution_count": 30
        }
      ]
    },
    {
      "cell_type": "code",
      "metadata": {
        "id": "8XZ5GVQ3N-WK",
        "colab_type": "code",
        "outputId": "7db98acb-6a03-4d18-dc33-a8cb18ced7ee",
        "colab": {
          "base_uri": "https://localhost:8080/",
          "height": 115
        }
      },
      "source": [
        "y.head()"
      ],
      "execution_count": 0,
      "outputs": [
        {
          "output_type": "execute_result",
          "data": {
            "text/plain": [
              "0    0\n",
              "1    1\n",
              "2    0\n",
              "3    0\n",
              "4    1\n",
              "Name: encode_gender, dtype: int64"
            ]
          },
          "metadata": {
            "tags": []
          },
          "execution_count": 31
        }
      ]
    },
    {
      "cell_type": "code",
      "metadata": {
        "id": "_6XWwivKN_Xp",
        "colab_type": "code",
        "colab": {}
      },
      "source": [
        "# Fit transform\n",
        "data_one_hot_encode = one_hot_encoder.fit_transform(data)"
      ],
      "execution_count": 0,
      "outputs": []
    },
    {
      "cell_type": "code",
      "metadata": {
        "id": "yj3M7XurOJk3",
        "colab_type": "code",
        "outputId": "9f1bf854-b5b2-40b9-92e7-c0bc5e344bc5",
        "colab": {
          "base_uri": "https://localhost:8080/",
          "height": 131
        }
      },
      "source": [
        "data_one_hot_encode"
      ],
      "execution_count": 0,
      "outputs": [
        {
          "output_type": "execute_result",
          "data": {
            "text/plain": [
              "array([[0., 0., 0., ..., 0., 1., 0.],\n",
              "       [0., 0., 0., ..., 0., 1., 0.],\n",
              "       [1., 0., 0., ..., 0., 1., 0.],\n",
              "       ...,\n",
              "       [1., 0., 0., ..., 1., 0., 0.],\n",
              "       [0., 1., 0., ..., 1., 0., 0.],\n",
              "       [0., 0., 0., ..., 0., 0., 0.]])"
            ]
          },
          "metadata": {
            "tags": []
          },
          "execution_count": 33
        }
      ]
    },
    {
      "cell_type": "code",
      "metadata": {
        "id": "5rplbRkojpEI",
        "colab_type": "code",
        "outputId": "a883de8f-e86a-479a-c799-f1853a521a6b",
        "colab": {
          "base_uri": "https://localhost:8080/",
          "height": 33
        }
      },
      "source": [
        "data_one_hot_encode.shape"
      ],
      "execution_count": 0,
      "outputs": [
        {
          "output_type": "execute_result",
          "data": {
            "text/plain": [
              "(10500, 351)"
            ]
          },
          "metadata": {
            "tags": []
          },
          "execution_count": 34
        }
      ]
    },
    {
      "cell_type": "code",
      "metadata": {
        "id": "Y-lXCV-DOLUx",
        "colab_type": "code",
        "colab": {}
      },
      "source": [
        "# one_hot_encoder_trial = OneHotEncoder(sparse=False, handle_unknown='ignore')"
      ],
      "execution_count": 0,
      "outputs": []
    },
    {
      "cell_type": "code",
      "metadata": {
        "id": "62C2dsQcOjlu",
        "colab_type": "code",
        "colab": {}
      },
      "source": [
        "# data_trial = one_hot_encoder_trial.fit_transform(data)"
      ],
      "execution_count": 0,
      "outputs": []
    },
    {
      "cell_type": "code",
      "metadata": {
        "id": "B4-ueIG4OoC-",
        "colab_type": "code",
        "outputId": "811c4ed6-451c-43cc-876d-cbee2e5e698a",
        "colab": {
          "base_uri": "https://localhost:8080/",
          "height": 33
        }
      },
      "source": [
        "# data_trial.shape"
      ],
      "execution_count": 0,
      "outputs": [
        {
          "output_type": "execute_result",
          "data": {
            "text/plain": [
              "(10500, 351)"
            ]
          },
          "metadata": {
            "tags": []
          },
          "execution_count": 40
        }
      ]
    },
    {
      "cell_type": "code",
      "metadata": {
        "id": "LSWw7GmOOpn1",
        "colab_type": "code",
        "colab": {}
      },
      "source": [
        "test_data_ohe = one_hot_encoder.transform(test_data)"
      ],
      "execution_count": 0,
      "outputs": []
    },
    {
      "cell_type": "code",
      "metadata": {
        "id": "uEAbMOSRO28Q",
        "colab_type": "code",
        "outputId": "dbdc865e-7143-42aa-e849-ca7cc9968cf5",
        "colab": {
          "base_uri": "https://localhost:8080/",
          "height": 33
        }
      },
      "source": [
        "test_data_ohe.shape"
      ],
      "execution_count": 0,
      "outputs": [
        {
          "output_type": "execute_result",
          "data": {
            "text/plain": [
              "(4500, 351)"
            ]
          },
          "metadata": {
            "tags": []
          },
          "execution_count": 37
        }
      ]
    },
    {
      "cell_type": "code",
      "metadata": {
        "id": "TIgCbyC8QfZH",
        "colab_type": "code",
        "outputId": "7beded67-ef87-40d0-e2f1-8d62167193ec",
        "colab": {
          "base_uri": "https://localhost:8080/",
          "height": 115
        }
      },
      "source": [
        "# Number of trees in random forest\n",
        "n_estimators = [int(x) for x in np.linspace(start = 20, stop = 500, num = 5)]\n",
        "\n",
        "# Number of features to consider at every split\n",
        "max_features = ['auto', 'sqrt']\n",
        "\n",
        "# Maximum number of levels in tree\n",
        "max_depth = [int(x) for x in np.linspace(5, 50, num = 5)]\n",
        "max_depth.append(None)\n",
        "\n",
        "# Minimum number of samples required to split a node\n",
        "min_samples_split = [2, 5, 10]\n",
        "\n",
        "# Minimum number of samples required at each leaf node\n",
        "min_samples_leaf = [1, 2, 4]\n",
        "\n",
        "# Method of selecting samples for training each tree\n",
        "bootstrap = [True, False]\n",
        "\n",
        "# Create the random grid for Random search cv\n",
        "random_grid = {'n_estimators': n_estimators,\n",
        "               'max_features': max_features,\n",
        "               'max_depth': max_depth,\n",
        "               'min_samples_split': min_samples_split,\n",
        "               'min_samples_leaf': min_samples_leaf,\n",
        "               'bootstrap': bootstrap}\n",
        "\n",
        "# checking grid\n",
        "random_grid"
      ],
      "execution_count": 0,
      "outputs": [
        {
          "output_type": "execute_result",
          "data": {
            "text/plain": [
              "{'bootstrap': [True, False],\n",
              " 'max_depth': [5, 16, 27, 38, 50, None],\n",
              " 'max_features': ['auto', 'sqrt'],\n",
              " 'min_samples_leaf': [1, 2, 4],\n",
              " 'min_samples_split': [2, 5, 10],\n",
              " 'n_estimators': [20, 140, 260, 380, 500]}"
            ]
          },
          "metadata": {
            "tags": []
          },
          "execution_count": 41
        }
      ]
    },
    {
      "cell_type": "code",
      "metadata": {
        "id": "6ePZ0cAnQ00h",
        "colab_type": "code",
        "outputId": "5e47c008-7c94-430b-f116-b37eb1763766",
        "colab": {
          "base_uri": "https://localhost:8080/",
          "height": 570
        }
      },
      "source": [
        "# Use the random grid to search for best hyperparameters\n",
        "\n",
        "# First create the base model to tune\n",
        "rfc = RandomForestClassifier()\n",
        "\n",
        "# Random search of parameters, using 3 fold cross validation, \n",
        "# search across 100 different combinations, and use all available cores\n",
        "rf_random = RandomizedSearchCV(estimator = rfc, \n",
        "                               param_distributions = random_grid,\n",
        "                               n_iter = 100, \n",
        "                               cv = 3, \n",
        "                               verbose=1, \n",
        "                               random_state=42, \n",
        "                               n_jobs = -1)\n",
        "\n",
        "# Fit the random search model\n",
        "rf_random.fit(data_one_hot_encode, y)"
      ],
      "execution_count": 0,
      "outputs": [
        {
          "output_type": "stream",
          "text": [
            "/usr/local/lib/python3.6/dist-packages/joblib/externals/loky/process_executor.py:706: UserWarning: A worker stopped while some jobs were given to the executor. This can be caused by a too short worker timeout or by a memory leak.\n",
            "  \"timeout or by a memory leak.\", UserWarning\n"
          ],
          "name": "stderr"
        },
        {
          "output_type": "execute_result",
          "data": {
            "text/plain": [
              "RandomizedSearchCV(cv=3, error_score=nan,\n",
              "                   estimator=RandomForestClassifier(bootstrap=True,\n",
              "                                                    ccp_alpha=0.0,\n",
              "                                                    class_weight=None,\n",
              "                                                    criterion='gini',\n",
              "                                                    max_depth=None,\n",
              "                                                    max_features='auto',\n",
              "                                                    max_leaf_nodes=None,\n",
              "                                                    max_samples=None,\n",
              "                                                    min_impurity_decrease=0.0,\n",
              "                                                    min_impurity_split=None,\n",
              "                                                    min_samples_leaf=1,\n",
              "                                                    min_samples_split=2,\n",
              "                                                    min_weight_fraction_leaf=0.0,\n",
              "                                                    n_estimators=100,\n",
              "                                                    n_jobs...\n",
              "                   param_distributions={'bootstrap': [True, False],\n",
              "                                        'max_depth': [10, 20, 30, 40, 50, 60,\n",
              "                                                      70, 80, 90, 100, 110,\n",
              "                                                      None],\n",
              "                                        'max_features': ['auto', 'sqrt'],\n",
              "                                        'min_samples_leaf': [1, 2, 4],\n",
              "                                        'min_samples_split': [2, 5, 10],\n",
              "                                        'n_estimators': [200, 400, 600, 800,\n",
              "                                                         1000, 1200, 1400, 1600,\n",
              "                                                         1800, 2000]},\n",
              "                   pre_dispatch='2*n_jobs', random_state=42, refit=True,\n",
              "                   return_train_score=False, scoring=None, verbose=0)"
            ]
          },
          "metadata": {
            "tags": []
          },
          "execution_count": 75
        }
      ]
    },
    {
      "cell_type": "code",
      "metadata": {
        "id": "j7OwSWpWRDNn",
        "colab_type": "code",
        "outputId": "74bf82b6-383f-43cf-b1c7-de888ef830f4",
        "colab": {
          "base_uri": "https://localhost:8080/",
          "height": 123
        }
      },
      "source": [
        "# Checking best params of RandomSearch CV\n",
        "\n",
        "rf_random.best_params_"
      ],
      "execution_count": 0,
      "outputs": [
        {
          "output_type": "execute_result",
          "data": {
            "text/plain": [
              "{'bootstrap': True,\n",
              " 'max_depth': None,\n",
              " 'max_features': 'sqrt',\n",
              " 'min_samples_leaf': 1,\n",
              " 'min_samples_split': 10,\n",
              " 'n_estimators': 1600}"
            ]
          },
          "metadata": {
            "tags": []
          },
          "execution_count": 76
        }
      ]
    },
    {
      "cell_type": "code",
      "metadata": {
        "id": "ll3vhzubi_-n",
        "colab_type": "code",
        "outputId": "7bd056c6-e4f6-4330-ec37-d3125986f334",
        "colab": {
          "base_uri": "https://localhost:8080/",
          "height": 34
        }
      },
      "source": [
        "# Checking Best score achieved\n",
        "rf_random.best_score_"
      ],
      "execution_count": 0,
      "outputs": [
        {
          "output_type": "execute_result",
          "data": {
            "text/plain": [
              "0.8723809523809525"
            ]
          },
          "metadata": {
            "tags": []
          },
          "execution_count": 77
        }
      ]
    },
    {
      "cell_type": "code",
      "metadata": {
        "id": "N8kEc7VtjCaU",
        "colab_type": "code",
        "outputId": "a3f84915-472a-401f-d7f4-c10fae092116",
        "colab": {
          "base_uri": "https://localhost:8080/",
          "height": 158
        }
      },
      "source": [
        "# Best estimator\n",
        "rf_random.best_estimator_"
      ],
      "execution_count": 0,
      "outputs": [
        {
          "output_type": "execute_result",
          "data": {
            "text/plain": [
              "RandomForestClassifier(bootstrap=True, ccp_alpha=0.0, class_weight=None,\n",
              "                       criterion='gini', max_depth=None, max_features='sqrt',\n",
              "                       max_leaf_nodes=None, max_samples=None,\n",
              "                       min_impurity_decrease=0.0, min_impurity_split=None,\n",
              "                       min_samples_leaf=1, min_samples_split=10,\n",
              "                       min_weight_fraction_leaf=0.0, n_estimators=1600,\n",
              "                       n_jobs=None, oob_score=False, random_state=None,\n",
              "                       verbose=0, warm_start=False)"
            ]
          },
          "metadata": {
            "tags": []
          },
          "execution_count": 78
        }
      ]
    },
    {
      "cell_type": "code",
      "metadata": {
        "id": "V2xAXYMljF7Z",
        "colab_type": "code",
        "outputId": "06a584bc-3c75-4321-e625-4f7a2cf62240",
        "colab": {
          "base_uri": "https://localhost:8080/",
          "height": 34
        }
      },
      "source": [
        "# Predicting on test data\n",
        "rf_random.predict(test_data_ohe)"
      ],
      "execution_count": 0,
      "outputs": [
        {
          "output_type": "execute_result",
          "data": {
            "text/plain": [
              "array([0, 0, 0, ..., 0, 1, 0])"
            ]
          },
          "metadata": {
            "tags": []
          },
          "execution_count": 79
        }
      ]
    },
    {
      "cell_type": "code",
      "metadata": {
        "id": "gQfbtNSUj4Sa",
        "colab_type": "code",
        "outputId": "02743bb4-75d7-4d5c-8e85-fc9c4f62c4b6",
        "colab": {
          "base_uri": "https://localhost:8080/",
          "height": 406
        }
      },
      "source": [
        "# Preparing for submission of results\n",
        "\n",
        "test_df_for_submission = pd.read_csv('/content/drive/My Drive/Kaggle/Janata Hack/Part 2 - E commerce/test_Yix80N0.csv', usecols=['session_id'])\n",
        "s1 = pd.Series(test_df_for_submission['session_id'])\n",
        "s2 = pd.Series(label_encoder_gender.inverse_transform(rf_random.predict(test_data_ohe)), name='gender')\n",
        "df = pd.concat([s1, s2], axis=1)\n",
        "df"
      ],
      "execution_count": 0,
      "outputs": [
        {
          "output_type": "execute_result",
          "data": {
            "text/html": [
              "<div>\n",
              "<style scoped>\n",
              "    .dataframe tbody tr th:only-of-type {\n",
              "        vertical-align: middle;\n",
              "    }\n",
              "\n",
              "    .dataframe tbody tr th {\n",
              "        vertical-align: top;\n",
              "    }\n",
              "\n",
              "    .dataframe thead th {\n",
              "        text-align: right;\n",
              "    }\n",
              "</style>\n",
              "<table border=\"1\" class=\"dataframe\">\n",
              "  <thead>\n",
              "    <tr style=\"text-align: right;\">\n",
              "      <th></th>\n",
              "      <th>session_id</th>\n",
              "      <th>gender</th>\n",
              "    </tr>\n",
              "  </thead>\n",
              "  <tbody>\n",
              "    <tr>\n",
              "      <th>0</th>\n",
              "      <td>u12112</td>\n",
              "      <td>female</td>\n",
              "    </tr>\n",
              "    <tr>\n",
              "      <th>1</th>\n",
              "      <td>u19725</td>\n",
              "      <td>female</td>\n",
              "    </tr>\n",
              "    <tr>\n",
              "      <th>2</th>\n",
              "      <td>u11795</td>\n",
              "      <td>female</td>\n",
              "    </tr>\n",
              "    <tr>\n",
              "      <th>3</th>\n",
              "      <td>u22639</td>\n",
              "      <td>female</td>\n",
              "    </tr>\n",
              "    <tr>\n",
              "      <th>4</th>\n",
              "      <td>u18034</td>\n",
              "      <td>female</td>\n",
              "    </tr>\n",
              "    <tr>\n",
              "      <th>...</th>\n",
              "      <td>...</td>\n",
              "      <td>...</td>\n",
              "    </tr>\n",
              "    <tr>\n",
              "      <th>4495</th>\n",
              "      <td>u23966</td>\n",
              "      <td>male</td>\n",
              "    </tr>\n",
              "    <tr>\n",
              "      <th>4496</th>\n",
              "      <td>u20527</td>\n",
              "      <td>female</td>\n",
              "    </tr>\n",
              "    <tr>\n",
              "      <th>4497</th>\n",
              "      <td>u13253</td>\n",
              "      <td>female</td>\n",
              "    </tr>\n",
              "    <tr>\n",
              "      <th>4498</th>\n",
              "      <td>u17094</td>\n",
              "      <td>male</td>\n",
              "    </tr>\n",
              "    <tr>\n",
              "      <th>4499</th>\n",
              "      <td>u24310</td>\n",
              "      <td>female</td>\n",
              "    </tr>\n",
              "  </tbody>\n",
              "</table>\n",
              "<p>4500 rows × 2 columns</p>\n",
              "</div>"
            ],
            "text/plain": [
              "     session_id  gender\n",
              "0        u12112  female\n",
              "1        u19725  female\n",
              "2        u11795  female\n",
              "3        u22639  female\n",
              "4        u18034  female\n",
              "...         ...     ...\n",
              "4495     u23966    male\n",
              "4496     u20527  female\n",
              "4497     u13253  female\n",
              "4498     u17094    male\n",
              "4499     u24310  female\n",
              "\n",
              "[4500 rows x 2 columns]"
            ]
          },
          "metadata": {
            "tags": []
          },
          "execution_count": 83
        }
      ]
    },
    {
      "cell_type": "code",
      "metadata": {
        "id": "uvw3ZqPAj45p",
        "colab_type": "code",
        "colab": {}
      },
      "source": [
        "# saving to csv\n",
        "df.to_csv('submission.csv', index=False)"
      ],
      "execution_count": 0,
      "outputs": []
    },
    {
      "cell_type": "markdown",
      "metadata": {
        "id": "Xb69kh8YmVVx",
        "colab_type": "text"
      },
      "source": [
        "Above model gave me score of 0.8583 and private score of 0.8711"
      ]
    },
    {
      "cell_type": "code",
      "metadata": {
        "id": "LqUxiN1wkp8F",
        "colab_type": "code",
        "colab": {}
      },
      "source": [
        ""
      ],
      "execution_count": 0,
      "outputs": []
    },
    {
      "cell_type": "code",
      "metadata": {
        "id": "lOn93FaMj9Y7",
        "colab_type": "code",
        "colab": {}
      },
      "source": [
        "# Saving model for future purpose.\n",
        "filename = 'finalized_model.sav'\n",
        "pickle.dump(rf_random, open(filename, 'wb'))"
      ],
      "execution_count": 0,
      "outputs": []
    },
    {
      "cell_type": "code",
      "metadata": {
        "id": "ohvoo6yvmkXC",
        "colab_type": "code",
        "colab": {}
      },
      "source": [
        ""
      ],
      "execution_count": 0,
      "outputs": []
    },
    {
      "cell_type": "code",
      "metadata": {
        "id": "WHAx1vybyDjt",
        "colab_type": "code",
        "colab": {}
      },
      "source": [
        "# Using default model for \n",
        "xgb_model = XGBClassifier()"
      ],
      "execution_count": 0,
      "outputs": []
    },
    {
      "cell_type": "code",
      "metadata": {
        "id": "BYVaER5XpVDY",
        "colab_type": "code",
        "colab": {}
      },
      "source": [
        "stratifiedKFold_validation = StratifiedKFold(random_state=2, n_splits=5, shuffle=True)"
      ],
      "execution_count": 0,
      "outputs": []
    },
    {
      "cell_type": "code",
      "metadata": {
        "id": "JoLYslYZpU7M",
        "colab_type": "code",
        "outputId": "f7f22b11-8aad-4fa1-bd35-3398bfbd7d0d",
        "colab": {
          "base_uri": "https://localhost:8080/",
          "height": 98
        }
      },
      "source": [
        "val_score = []\n",
        "for train_ix, test_ix in stratifiedKFold_validation.split(data_one_hot_encode, y):\n",
        "    train_X, test_X = data_one_hot_encode[train_ix],data_one_hot_encode[test_ix]\n",
        "    train_y, test_y = y[train_ix],y[test_ix]\n",
        "    xgb_model_fold = XGBClassifier()\n",
        "    xgb_model_fold.fit(train_X, train_y)\n",
        "    print(xgb_model_fold.score(test_X, test_y))\n",
        "    val_score.append(xgb_model_fold.score(test_X, test_y))"
      ],
      "execution_count": 0,
      "outputs": [
        {
          "output_type": "stream",
          "text": [
            "0.8742857142857143\n",
            "0.8714285714285714\n",
            "0.8709523809523809\n",
            "0.8714285714285714\n",
            "0.871904761904762\n"
          ],
          "name": "stdout"
        }
      ]
    },
    {
      "cell_type": "code",
      "metadata": {
        "id": "ZbnsA6mWmqlF",
        "colab_type": "code",
        "outputId": "6cec75b4-49ab-45cf-c350-0f328ecc59c6",
        "colab": {
          "base_uri": "https://localhost:8080/",
          "height": 131
        }
      },
      "source": [
        "xgb_model.fit(data_one_hot_encode, y)"
      ],
      "execution_count": 0,
      "outputs": [
        {
          "output_type": "execute_result",
          "data": {
            "text/plain": [
              "XGBClassifier(base_score=0.5, booster='gbtree', colsample_bylevel=1,\n",
              "              colsample_bynode=1, colsample_bytree=1, gamma=0,\n",
              "              learning_rate=0.1, max_delta_step=0, max_depth=3,\n",
              "              min_child_weight=1, missing=None, n_estimators=100, n_jobs=1,\n",
              "              nthread=None, objective='binary:logistic', random_state=0,\n",
              "              reg_alpha=0, reg_lambda=1, scale_pos_weight=1, seed=None,\n",
              "              silent=None, subsample=1, verbosity=1)"
            ]
          },
          "metadata": {
            "tags": []
          },
          "execution_count": 48
        }
      ]
    },
    {
      "cell_type": "code",
      "metadata": {
        "id": "_i4gSPy2mqg4",
        "colab_type": "code",
        "outputId": "da422d04-0ad6-4e0e-966f-529194f72483",
        "colab": {
          "base_uri": "https://localhost:8080/",
          "height": 33
        }
      },
      "source": [
        "xgb_model.predict(test_data_ohe)"
      ],
      "execution_count": 0,
      "outputs": [
        {
          "output_type": "execute_result",
          "data": {
            "text/plain": [
              "array([0, 0, 0, ..., 0, 1, 0])"
            ]
          },
          "metadata": {
            "tags": []
          },
          "execution_count": 49
        }
      ]
    },
    {
      "cell_type": "code",
      "metadata": {
        "id": "fWYPCaZR1ptU",
        "colab_type": "code",
        "outputId": "17eb7491-e7d7-4f36-a009-ef0553ebbdc5",
        "colab": {
          "base_uri": "https://localhost:8080/",
          "height": 391
        }
      },
      "source": [
        "# Preparing for submission of results\n",
        "\n",
        "s2 = pd.Series(label_encoder_gender.inverse_transform(xgb_model.predict(test_data_ohe)), name='gender')\n",
        "df = pd.concat([s1, s2], axis=1)\n",
        "df"
      ],
      "execution_count": 0,
      "outputs": [
        {
          "output_type": "execute_result",
          "data": {
            "text/html": [
              "<div>\n",
              "<style scoped>\n",
              "    .dataframe tbody tr th:only-of-type {\n",
              "        vertical-align: middle;\n",
              "    }\n",
              "\n",
              "    .dataframe tbody tr th {\n",
              "        vertical-align: top;\n",
              "    }\n",
              "\n",
              "    .dataframe thead th {\n",
              "        text-align: right;\n",
              "    }\n",
              "</style>\n",
              "<table border=\"1\" class=\"dataframe\">\n",
              "  <thead>\n",
              "    <tr style=\"text-align: right;\">\n",
              "      <th></th>\n",
              "      <th>session_id</th>\n",
              "      <th>gender</th>\n",
              "    </tr>\n",
              "  </thead>\n",
              "  <tbody>\n",
              "    <tr>\n",
              "      <th>0</th>\n",
              "      <td>u12112</td>\n",
              "      <td>female</td>\n",
              "    </tr>\n",
              "    <tr>\n",
              "      <th>1</th>\n",
              "      <td>u19725</td>\n",
              "      <td>female</td>\n",
              "    </tr>\n",
              "    <tr>\n",
              "      <th>2</th>\n",
              "      <td>u11795</td>\n",
              "      <td>female</td>\n",
              "    </tr>\n",
              "    <tr>\n",
              "      <th>3</th>\n",
              "      <td>u22639</td>\n",
              "      <td>female</td>\n",
              "    </tr>\n",
              "    <tr>\n",
              "      <th>4</th>\n",
              "      <td>u18034</td>\n",
              "      <td>female</td>\n",
              "    </tr>\n",
              "    <tr>\n",
              "      <th>...</th>\n",
              "      <td>...</td>\n",
              "      <td>...</td>\n",
              "    </tr>\n",
              "    <tr>\n",
              "      <th>4495</th>\n",
              "      <td>u23966</td>\n",
              "      <td>male</td>\n",
              "    </tr>\n",
              "    <tr>\n",
              "      <th>4496</th>\n",
              "      <td>u20527</td>\n",
              "      <td>female</td>\n",
              "    </tr>\n",
              "    <tr>\n",
              "      <th>4497</th>\n",
              "      <td>u13253</td>\n",
              "      <td>female</td>\n",
              "    </tr>\n",
              "    <tr>\n",
              "      <th>4498</th>\n",
              "      <td>u17094</td>\n",
              "      <td>male</td>\n",
              "    </tr>\n",
              "    <tr>\n",
              "      <th>4499</th>\n",
              "      <td>u24310</td>\n",
              "      <td>female</td>\n",
              "    </tr>\n",
              "  </tbody>\n",
              "</table>\n",
              "<p>4500 rows × 2 columns</p>\n",
              "</div>"
            ],
            "text/plain": [
              "     session_id  gender\n",
              "0        u12112  female\n",
              "1        u19725  female\n",
              "2        u11795  female\n",
              "3        u22639  female\n",
              "4        u18034  female\n",
              "...         ...     ...\n",
              "4495     u23966    male\n",
              "4496     u20527  female\n",
              "4497     u13253  female\n",
              "4498     u17094    male\n",
              "4499     u24310  female\n",
              "\n",
              "[4500 rows x 2 columns]"
            ]
          },
          "metadata": {
            "tags": []
          },
          "execution_count": 50
        }
      ]
    },
    {
      "cell_type": "code",
      "metadata": {
        "id": "itBpvQfr1pot",
        "colab_type": "code",
        "colab": {}
      },
      "source": [
        "# saving to csv\n",
        "df.to_csv('submission.csv', index=False)"
      ],
      "execution_count": 0,
      "outputs": []
    },
    {
      "cell_type": "code",
      "metadata": {
        "id": "yjmnbm-V2Oxg",
        "colab_type": "code",
        "outputId": "51b63fe2-a0a2-47f5-ccdd-11cf2d153e60",
        "colab": {
          "base_uri": "https://localhost:8080/",
          "height": 115
        }
      },
      "source": [
        "random_grid"
      ],
      "execution_count": 0,
      "outputs": [
        {
          "output_type": "execute_result",
          "data": {
            "text/plain": [
              "{'bootstrap': [True, False],\n",
              " 'max_depth': [1, 2, 5, 10],\n",
              " 'max_features': ['auto', 'sqrt'],\n",
              " 'min_samples_leaf': [1, 2, 4],\n",
              " 'min_samples_split': [2, 5, 10],\n",
              " 'n_estimators': [10, 20, 50, 100, 145]}"
            ]
          },
          "metadata": {
            "tags": []
          },
          "execution_count": 61
        }
      ]
    },
    {
      "cell_type": "code",
      "metadata": {
        "id": "IvCt1lvl2Osa",
        "colab_type": "code",
        "outputId": "ba275300-cfa6-4ca5-ab47-b444064afb4c",
        "colab": {
          "base_uri": "https://localhost:8080/",
          "height": 115
        }
      },
      "source": [
        "random_grid"
      ],
      "execution_count": 0,
      "outputs": [
        {
          "output_type": "execute_result",
          "data": {
            "text/plain": [
              "{'bootstrap': [True, False],\n",
              " 'max_depth': [1, 2, 5, 10],\n",
              " 'max_features': ['auto', 'sqrt'],\n",
              " 'min_samples_leaf': [1, 2, 4],\n",
              " 'min_samples_split': [2, 5, 10],\n",
              " 'n_estimators': [10, 20, 50, 100, 145]}"
            ]
          },
          "metadata": {
            "tags": []
          },
          "execution_count": 62
        }
      ]
    },
    {
      "cell_type": "code",
      "metadata": {
        "id": "5_mfQYqlJsjg",
        "colab_type": "code",
        "colab": {}
      },
      "source": [
        "# Using default model for \n",
        "xgb_model_random = XGBClassifier()"
      ],
      "execution_count": 0,
      "outputs": []
    },
    {
      "cell_type": "code",
      "metadata": {
        "id": "lcszh618yIil",
        "colab_type": "code",
        "colab": {}
      },
      "source": [
        "xgb_random = RandomizedSearchCV(estimator = xgb_model_random, \n",
        "                                param_distributions = random_grid, \n",
        "                                n_iter = 100, \n",
        "                                cv = 2, \n",
        "                                verbose=1, \n",
        "                                random_state=2, \n",
        "                                n_jobs = -1)"
      ],
      "execution_count": 0,
      "outputs": []
    },
    {
      "cell_type": "code",
      "metadata": {
        "id": "1jwv4W-ayg5M",
        "colab_type": "code",
        "outputId": "9b1a2169-2c07-43da-919a-21f210d00114",
        "colab": {
          "base_uri": "https://localhost:8080/",
          "height": 472
        }
      },
      "source": [
        "xgb_random.fit(data_one_hot_encode, y)"
      ],
      "execution_count": 0,
      "outputs": [
        {
          "output_type": "stream",
          "text": [
            "Fitting 2 folds for each of 100 candidates, totalling 200 fits\n"
          ],
          "name": "stdout"
        },
        {
          "output_type": "stream",
          "text": [
            "[Parallel(n_jobs=-1)]: Using backend LokyBackend with 2 concurrent workers.\n",
            "[Parallel(n_jobs=-1)]: Done  46 tasks      | elapsed:  1.8min\n",
            "[Parallel(n_jobs=-1)]: Done 196 tasks      | elapsed:  8.4min\n",
            "[Parallel(n_jobs=-1)]: Done 200 out of 200 | elapsed:  8.5min finished\n"
          ],
          "name": "stderr"
        },
        {
          "output_type": "execute_result",
          "data": {
            "text/plain": [
              "RandomizedSearchCV(cv=2, error_score=nan,\n",
              "                   estimator=XGBClassifier(base_score=0.5, booster='gbtree',\n",
              "                                           colsample_bylevel=1,\n",
              "                                           colsample_bynode=1,\n",
              "                                           colsample_bytree=1, gamma=0,\n",
              "                                           learning_rate=0.1, max_delta_step=0,\n",
              "                                           max_depth=3, min_child_weight=1,\n",
              "                                           missing=None, n_estimators=100,\n",
              "                                           n_jobs=1, nthread=None,\n",
              "                                           objective='binary:logistic',\n",
              "                                           random_state=0, reg_alpha=0,\n",
              "                                           reg_lambda=1, sc...\n",
              "                                           seed=None, silent=None, subsample=1,\n",
              "                                           verbosity=1),\n",
              "                   iid='deprecated', n_iter=100, n_jobs=-1,\n",
              "                   param_distributions={'bootstrap': [True, False],\n",
              "                                        'max_depth': [1, 2, 5, 10],\n",
              "                                        'max_features': ['auto', 'sqrt'],\n",
              "                                        'min_samples_leaf': [1, 2, 4],\n",
              "                                        'min_samples_split': [2, 5, 10],\n",
              "                                        'n_estimators': [10, 20, 50, 100, 145]},\n",
              "                   pre_dispatch='2*n_jobs', random_state=2, refit=True,\n",
              "                   return_train_score=False, scoring=None, verbose=1)"
            ]
          },
          "metadata": {
            "tags": []
          },
          "execution_count": 65
        }
      ]
    },
    {
      "cell_type": "code",
      "metadata": {
        "id": "UfwfxfCByomp",
        "colab_type": "code",
        "outputId": "e6ae5b16-0bba-4a7f-b6f1-b04e186c8fe1",
        "colab": {
          "base_uri": "https://localhost:8080/",
          "height": 33
        }
      },
      "source": [
        "xgb_random.best_score_"
      ],
      "execution_count": 0,
      "outputs": [
        {
          "output_type": "execute_result",
          "data": {
            "text/plain": [
              "0.8722857142857143"
            ]
          },
          "metadata": {
            "tags": []
          },
          "execution_count": 67
        }
      ]
    },
    {
      "cell_type": "code",
      "metadata": {
        "id": "67hDH3qmSJvh",
        "colab_type": "code",
        "outputId": "fd013e3f-7618-45ca-e173-a618112fb456",
        "colab": {
          "base_uri": "https://localhost:8080/",
          "height": 115
        }
      },
      "source": [
        "xgb_random.best_params_"
      ],
      "execution_count": 0,
      "outputs": [
        {
          "output_type": "execute_result",
          "data": {
            "text/plain": [
              "{'bootstrap': True,\n",
              " 'max_depth': 5,\n",
              " 'max_features': 'sqrt',\n",
              " 'min_samples_leaf': 2,\n",
              " 'min_samples_split': 5,\n",
              " 'n_estimators': 100}"
            ]
          },
          "metadata": {
            "tags": []
          },
          "execution_count": 68
        }
      ]
    },
    {
      "cell_type": "code",
      "metadata": {
        "id": "6uyPdzEnSIEG",
        "colab_type": "code",
        "outputId": "99a1f940-5e86-4ae9-d065-2098f05a714d",
        "colab": {
          "base_uri": "https://localhost:8080/",
          "height": 33
        }
      },
      "source": [
        "xgb_random.predict(test_data_ohe)"
      ],
      "execution_count": 0,
      "outputs": [
        {
          "output_type": "execute_result",
          "data": {
            "text/plain": [
              "array([0, 0, 0, ..., 0, 1, 0])"
            ]
          },
          "metadata": {
            "tags": []
          },
          "execution_count": 70
        }
      ]
    },
    {
      "cell_type": "code",
      "metadata": {
        "id": "3e9CipPDSTxz",
        "colab_type": "code",
        "colab": {}
      },
      "source": [
        "s2 = pd.Series(label_encoder_gender.inverse_transform(xgb_random.predict(test_data_ohe)), name='gender')\n",
        "df = pd.concat([s1, s2], axis=1)"
      ],
      "execution_count": 0,
      "outputs": []
    },
    {
      "cell_type": "code",
      "metadata": {
        "id": "xohNn-iRsijU",
        "colab_type": "code",
        "outputId": "836a37ed-b3a3-41d9-9a12-bb96c1c3f520",
        "colab": {
          "base_uri": "https://localhost:8080/",
          "height": 391
        }
      },
      "source": [
        "df"
      ],
      "execution_count": 0,
      "outputs": [
        {
          "output_type": "execute_result",
          "data": {
            "text/html": [
              "<div>\n",
              "<style scoped>\n",
              "    .dataframe tbody tr th:only-of-type {\n",
              "        vertical-align: middle;\n",
              "    }\n",
              "\n",
              "    .dataframe tbody tr th {\n",
              "        vertical-align: top;\n",
              "    }\n",
              "\n",
              "    .dataframe thead th {\n",
              "        text-align: right;\n",
              "    }\n",
              "</style>\n",
              "<table border=\"1\" class=\"dataframe\">\n",
              "  <thead>\n",
              "    <tr style=\"text-align: right;\">\n",
              "      <th></th>\n",
              "      <th>session_id</th>\n",
              "      <th>gender</th>\n",
              "    </tr>\n",
              "  </thead>\n",
              "  <tbody>\n",
              "    <tr>\n",
              "      <th>0</th>\n",
              "      <td>u12112</td>\n",
              "      <td>female</td>\n",
              "    </tr>\n",
              "    <tr>\n",
              "      <th>1</th>\n",
              "      <td>u19725</td>\n",
              "      <td>female</td>\n",
              "    </tr>\n",
              "    <tr>\n",
              "      <th>2</th>\n",
              "      <td>u11795</td>\n",
              "      <td>female</td>\n",
              "    </tr>\n",
              "    <tr>\n",
              "      <th>3</th>\n",
              "      <td>u22639</td>\n",
              "      <td>female</td>\n",
              "    </tr>\n",
              "    <tr>\n",
              "      <th>4</th>\n",
              "      <td>u18034</td>\n",
              "      <td>female</td>\n",
              "    </tr>\n",
              "    <tr>\n",
              "      <th>...</th>\n",
              "      <td>...</td>\n",
              "      <td>...</td>\n",
              "    </tr>\n",
              "    <tr>\n",
              "      <th>4495</th>\n",
              "      <td>u23966</td>\n",
              "      <td>male</td>\n",
              "    </tr>\n",
              "    <tr>\n",
              "      <th>4496</th>\n",
              "      <td>u20527</td>\n",
              "      <td>female</td>\n",
              "    </tr>\n",
              "    <tr>\n",
              "      <th>4497</th>\n",
              "      <td>u13253</td>\n",
              "      <td>female</td>\n",
              "    </tr>\n",
              "    <tr>\n",
              "      <th>4498</th>\n",
              "      <td>u17094</td>\n",
              "      <td>male</td>\n",
              "    </tr>\n",
              "    <tr>\n",
              "      <th>4499</th>\n",
              "      <td>u24310</td>\n",
              "      <td>female</td>\n",
              "    </tr>\n",
              "  </tbody>\n",
              "</table>\n",
              "<p>4500 rows × 2 columns</p>\n",
              "</div>"
            ],
            "text/plain": [
              "     session_id  gender\n",
              "0        u12112  female\n",
              "1        u19725  female\n",
              "2        u11795  female\n",
              "3        u22639  female\n",
              "4        u18034  female\n",
              "...         ...     ...\n",
              "4495     u23966    male\n",
              "4496     u20527  female\n",
              "4497     u13253  female\n",
              "4498     u17094    male\n",
              "4499     u24310  female\n",
              "\n",
              "[4500 rows x 2 columns]"
            ]
          },
          "metadata": {
            "tags": []
          },
          "execution_count": 72
        }
      ]
    },
    {
      "cell_type": "code",
      "metadata": {
        "id": "ToMfriDcSgbw",
        "colab_type": "code",
        "colab": {}
      },
      "source": [
        "df.to_csv('submission.csv', index=False)"
      ],
      "execution_count": 0,
      "outputs": []
    },
    {
      "cell_type": "code",
      "metadata": {
        "id": "wHdWSeL5Smxd",
        "colab_type": "code",
        "colab": {}
      },
      "source": [
        "filename1 = '/content/drive/My Drive/Kaggle/finalized_model_xgboost_random.sav'\n",
        "pickle.dump(xgb_random, open(filename1, 'wb'))"
      ],
      "execution_count": 0,
      "outputs": []
    },
    {
      "cell_type": "code",
      "metadata": {
        "id": "or3Uas9dFBUJ",
        "colab_type": "code",
        "colab": {}
      },
      "source": [
        "# This model fetched me 85.88 "
      ],
      "execution_count": 0,
      "outputs": []
    },
    {
      "cell_type": "code",
      "metadata": {
        "id": "A_fDyvhEFBPV",
        "colab_type": "code",
        "colab": {}
      },
      "source": [
        ""
      ],
      "execution_count": 0,
      "outputs": []
    },
    {
      "cell_type": "code",
      "metadata": {
        "id": "vopeDxG6M_bo",
        "colab_type": "code",
        "colab": {}
      },
      "source": [
        ""
      ],
      "execution_count": 0,
      "outputs": []
    },
    {
      "cell_type": "code",
      "metadata": {
        "id": "GuFP5QyjM_Xf",
        "colab_type": "code",
        "colab": {}
      },
      "source": [
        "# Trying random Forest with AdaBoost"
      ],
      "execution_count": 0,
      "outputs": []
    },
    {
      "cell_type": "code",
      "metadata": {
        "id": "5K2JsEE7FCD4",
        "colab_type": "code",
        "colab": {}
      },
      "source": [
        "clf = RandomForestClassifier(n_estimators=145, \n",
        "                             n_jobs=-1, \n",
        "                             bootstrap=True, \n",
        "                             max_depth=None, \n",
        "                             max_features='sqrt', \n",
        "                             min_samples_leaf=1, \n",
        "                             min_samples_split=10, \n",
        "                             warm_start=True, \n",
        "                             verbose=0, \n",
        "                             class_weight = {1:.82, 0:.1});\n",
        "\n",
        "bclf = AdaBoostClassifier(base_estimator=clf,\n",
        "                          n_estimators=10, \n",
        "                          random_state=2)"
      ],
      "execution_count": 0,
      "outputs": []
    },
    {
      "cell_type": "code",
      "metadata": {
        "id": "8KTd4Yd4FHvX",
        "colab_type": "code",
        "outputId": "6482fecd-f4a8-4753-f031-ee3af91a31cd",
        "colab": {
          "base_uri": "https://localhost:8080/",
          "height": 375
        }
      },
      "source": [
        "bclf.fit(data_one_hot_encode, y)"
      ],
      "execution_count": 0,
      "outputs": [
        {
          "output_type": "execute_result",
          "data": {
            "text/plain": [
              "AdaBoostClassifier(algorithm='SAMME.R',\n",
              "                   base_estimator=RandomForestClassifier(bootstrap=True,\n",
              "                                                         ccp_alpha=0.0,\n",
              "                                                         class_weight={0: 0.1,\n",
              "                                                                       1: 0.82},\n",
              "                                                         criterion='gini',\n",
              "                                                         max_depth=None,\n",
              "                                                         max_features='sqrt',\n",
              "                                                         max_leaf_nodes=None,\n",
              "                                                         max_samples=None,\n",
              "                                                         min_impurity_decrease=0.0,\n",
              "                                                         min_impurity_split=None,\n",
              "                                                         min_samples_leaf=1,\n",
              "                                                         min_samples_split=10,\n",
              "                                                         min_weight_fraction_leaf=0.0,\n",
              "                                                         n_estimators=145,\n",
              "                                                         n_jobs=-1,\n",
              "                                                         oob_score=False,\n",
              "                                                         random_state=None,\n",
              "                                                         verbose=0,\n",
              "                                                         warm_start=True),\n",
              "                   learning_rate=1.0, n_estimators=10, random_state=2)"
            ]
          },
          "metadata": {
            "tags": []
          },
          "execution_count": 75
        }
      ]
    },
    {
      "cell_type": "code",
      "metadata": {
        "id": "gvzEGgBWGYaN",
        "colab_type": "code",
        "outputId": "cb9dadba-e6df-4347-bd3d-5365dc614516",
        "colab": {
          "base_uri": "https://localhost:8080/",
          "height": 33
        }
      },
      "source": [
        "bclf.predict(test_data_ohe)"
      ],
      "execution_count": 0,
      "outputs": [
        {
          "output_type": "execute_result",
          "data": {
            "text/plain": [
              "array([0, 0, 0, ..., 0, 1, 0])"
            ]
          },
          "metadata": {
            "tags": []
          },
          "execution_count": 76
        }
      ]
    },
    {
      "cell_type": "code",
      "metadata": {
        "id": "NpNdIehJHDDX",
        "colab_type": "code",
        "outputId": "58b1134e-ccda-4b21-a9f7-8abb202f7b9c",
        "colab": {
          "base_uri": "https://localhost:8080/",
          "height": 33
        }
      },
      "source": [
        "bclf.score(data_one_hot_encode, y)"
      ],
      "execution_count": 0,
      "outputs": [
        {
          "output_type": "execute_result",
          "data": {
            "text/plain": [
              "0.906"
            ]
          },
          "metadata": {
            "tags": []
          },
          "execution_count": 77
        }
      ]
    },
    {
      "cell_type": "code",
      "metadata": {
        "id": "_6G7orCsPb-T",
        "colab_type": "code",
        "colab": {}
      },
      "source": [
        "s2 = pd.Series(label_encoder_gender.inverse_transform(bclf.predict(test_data_ohe)), name='gender')\n",
        "df = pd.concat([s1, s2], axis=1)"
      ],
      "execution_count": 0,
      "outputs": []
    },
    {
      "cell_type": "code",
      "metadata": {
        "id": "3UQpd_YEdKfP",
        "colab_type": "code",
        "outputId": "9ec12b86-eaf5-44e6-90cb-b86829ca3f08",
        "colab": {
          "base_uri": "https://localhost:8080/",
          "height": 391
        }
      },
      "source": [
        "df"
      ],
      "execution_count": 0,
      "outputs": [
        {
          "output_type": "execute_result",
          "data": {
            "text/html": [
              "<div>\n",
              "<style scoped>\n",
              "    .dataframe tbody tr th:only-of-type {\n",
              "        vertical-align: middle;\n",
              "    }\n",
              "\n",
              "    .dataframe tbody tr th {\n",
              "        vertical-align: top;\n",
              "    }\n",
              "\n",
              "    .dataframe thead th {\n",
              "        text-align: right;\n",
              "    }\n",
              "</style>\n",
              "<table border=\"1\" class=\"dataframe\">\n",
              "  <thead>\n",
              "    <tr style=\"text-align: right;\">\n",
              "      <th></th>\n",
              "      <th>session_id</th>\n",
              "      <th>gender</th>\n",
              "    </tr>\n",
              "  </thead>\n",
              "  <tbody>\n",
              "    <tr>\n",
              "      <th>0</th>\n",
              "      <td>u12112</td>\n",
              "      <td>female</td>\n",
              "    </tr>\n",
              "    <tr>\n",
              "      <th>1</th>\n",
              "      <td>u19725</td>\n",
              "      <td>female</td>\n",
              "    </tr>\n",
              "    <tr>\n",
              "      <th>2</th>\n",
              "      <td>u11795</td>\n",
              "      <td>female</td>\n",
              "    </tr>\n",
              "    <tr>\n",
              "      <th>3</th>\n",
              "      <td>u22639</td>\n",
              "      <td>female</td>\n",
              "    </tr>\n",
              "    <tr>\n",
              "      <th>4</th>\n",
              "      <td>u18034</td>\n",
              "      <td>male</td>\n",
              "    </tr>\n",
              "    <tr>\n",
              "      <th>...</th>\n",
              "      <td>...</td>\n",
              "      <td>...</td>\n",
              "    </tr>\n",
              "    <tr>\n",
              "      <th>4495</th>\n",
              "      <td>u23966</td>\n",
              "      <td>male</td>\n",
              "    </tr>\n",
              "    <tr>\n",
              "      <th>4496</th>\n",
              "      <td>u20527</td>\n",
              "      <td>female</td>\n",
              "    </tr>\n",
              "    <tr>\n",
              "      <th>4497</th>\n",
              "      <td>u13253</td>\n",
              "      <td>female</td>\n",
              "    </tr>\n",
              "    <tr>\n",
              "      <th>4498</th>\n",
              "      <td>u17094</td>\n",
              "      <td>male</td>\n",
              "    </tr>\n",
              "    <tr>\n",
              "      <th>4499</th>\n",
              "      <td>u24310</td>\n",
              "      <td>female</td>\n",
              "    </tr>\n",
              "  </tbody>\n",
              "</table>\n",
              "<p>4500 rows × 2 columns</p>\n",
              "</div>"
            ],
            "text/plain": [
              "     session_id  gender\n",
              "0        u12112  female\n",
              "1        u19725  female\n",
              "2        u11795  female\n",
              "3        u22639  female\n",
              "4        u18034    male\n",
              "...         ...     ...\n",
              "4495     u23966    male\n",
              "4496     u20527  female\n",
              "4497     u13253  female\n",
              "4498     u17094    male\n",
              "4499     u24310  female\n",
              "\n",
              "[4500 rows x 2 columns]"
            ]
          },
          "metadata": {
            "tags": []
          },
          "execution_count": 79
        }
      ]
    },
    {
      "cell_type": "code",
      "metadata": {
        "id": "OyLrKuDEPqWA",
        "colab_type": "code",
        "colab": {}
      },
      "source": [
        "df.to_csv('submission13.csv', index=False)"
      ],
      "execution_count": 0,
      "outputs": []
    },
    {
      "cell_type": "code",
      "metadata": {
        "id": "ZJgyQP1lagH7",
        "colab_type": "code",
        "colab": {}
      },
      "source": [
        "# This model gave me score of 0.8577"
      ],
      "execution_count": 0,
      "outputs": []
    },
    {
      "cell_type": "code",
      "metadata": {
        "id": "UxLVEnVQPzYQ",
        "colab_type": "code",
        "colab": {}
      },
      "source": [
        "# Trying out gradient boosting (taking params intuation from previous models)"
      ],
      "execution_count": 0,
      "outputs": []
    },
    {
      "cell_type": "code",
      "metadata": {
        "id": "sskvQqwfiKGE",
        "colab_type": "code",
        "colab": {}
      },
      "source": [
        "clf_2 = GradientBoostingClassifier(learning_rate=1, \n",
        "                                   random_state=2, \n",
        "                                   n_estimators=145, \n",
        "                                   verbose=2, \n",
        "                                   min_samples_split=16, \n",
        "                                   min_samples_leaf=1, \n",
        "                                   warm_start=True, \n",
        "                                   max_features='sqrt', \n",
        "                                   max_depth=1)"
      ],
      "execution_count": 0,
      "outputs": []
    },
    {
      "cell_type": "code",
      "metadata": {
        "id": "SfzPsHnBiOyL",
        "colab_type": "code",
        "outputId": "9edf702a-6c6e-4402-fa10-6f0e51a42c66",
        "colab": {
          "base_uri": "https://localhost:8080/",
          "height": 1000
        }
      },
      "source": [
        "clf_2.fit(data_one_hot_encode, y)"
      ],
      "execution_count": 0,
      "outputs": [
        {
          "output_type": "stream",
          "text": [
            "      Iter       Train Loss   Remaining Time \n",
            "         1           1.0140            0.83s\n",
            "         2           1.0117            0.83s\n",
            "         3           0.7828            0.83s\n",
            "         4           0.7628            0.81s\n",
            "         5           0.7618            0.80s\n",
            "         6           0.7576            0.77s\n",
            "         7           0.7565            0.75s\n",
            "         8           0.7555            0.74s\n",
            "         9           0.7550            0.73s\n",
            "        10           0.7537            0.73s\n",
            "        11           0.7533            0.72s\n",
            "        12           0.7510            0.71s\n",
            "        13           0.7506            0.72s\n",
            "        14           0.7481            0.71s\n",
            "        15           0.7465            0.70s\n",
            "        16           0.7461            0.70s\n",
            "        17           0.7455            0.69s\n",
            "        18           0.7443            0.68s\n",
            "        19           0.7441            0.67s\n",
            "        20           0.7435            0.65s\n",
            "        21           0.7431            0.64s\n",
            "        22           0.7425            0.64s\n",
            "        23           0.7416            0.63s\n",
            "        24           0.7412            0.62s\n",
            "        25           0.7376            0.61s\n",
            "        26           0.7374            0.60s\n",
            "        27           0.7371            0.60s\n",
            "        28           0.7367            0.59s\n",
            "        29           0.7358            0.59s\n",
            "        30           0.7352            0.58s\n",
            "        31           0.7349            0.58s\n",
            "        32           0.7343            0.57s\n",
            "        33           0.7337            0.57s\n",
            "        34           0.7331            0.56s\n",
            "        35           0.7325            0.55s\n",
            "        36           0.7320            0.55s\n",
            "        37           0.7317            0.54s\n",
            "        38           0.7312            0.53s\n",
            "        39           0.7312            0.53s\n",
            "        40           0.7309            0.52s\n",
            "        41           0.7298            0.52s\n",
            "        42           0.7295            0.51s\n",
            "        43           0.7286            0.51s\n",
            "        44           0.7278            0.50s\n",
            "        45           0.7274            0.50s\n",
            "        46           0.7265            0.49s\n",
            "        47           0.7259            0.48s\n",
            "        48           0.7252            0.48s\n",
            "        49           0.7249            0.47s\n",
            "        50           0.7248            0.46s\n",
            "        51           0.7248            0.46s\n",
            "        52           0.7246            0.45s\n",
            "        53           0.7244            0.44s\n",
            "        54           0.7238            0.44s\n",
            "        55           0.7236            0.43s\n",
            "        56           0.7222            0.43s\n",
            "        57           0.7220            0.42s\n",
            "        58           0.7215            0.42s\n",
            "        59           0.7214            0.41s\n",
            "        60           0.7206            0.41s\n",
            "        61           0.7202            0.40s\n",
            "        62           0.7199            0.40s\n",
            "        63           0.7189            0.40s\n",
            "        64           0.7187            0.39s\n",
            "        65           0.7185            0.39s\n",
            "        66           0.7182            0.38s\n",
            "        67           0.7180            0.38s\n",
            "        68           0.7179            0.37s\n",
            "        69           0.7177            0.37s\n",
            "        70           0.7175            0.36s\n",
            "        71           0.7174            0.35s\n",
            "        72           0.7171            0.35s\n",
            "        73           0.7164            0.34s\n",
            "        74           0.7163            0.34s\n",
            "        75           0.7159            0.33s\n",
            "        76           0.7154            0.33s\n",
            "        77           0.7143            0.32s\n",
            "        78           0.7142            0.32s\n",
            "        79           0.7141            0.31s\n",
            "        80           0.7139            0.31s\n",
            "        81           0.7138            0.31s\n",
            "        82           0.7137            0.30s\n",
            "        83           0.7131            0.30s\n",
            "        84           0.7129            0.29s\n",
            "        85           0.7124            0.29s\n",
            "        86           0.7123            0.28s\n",
            "        87           0.7121            0.28s\n",
            "        88           0.7117            0.27s\n",
            "        89           0.7116            0.27s\n",
            "        90           0.7114            0.26s\n",
            "        91           0.7113            0.26s\n",
            "        92           0.7111            0.25s\n",
            "        93           0.7107            0.25s\n",
            "        94           0.7105            0.24s\n",
            "        95           0.7103            0.24s\n",
            "        96           0.7102            0.23s\n",
            "        97           0.7101            0.23s\n",
            "        98           0.7100            0.22s\n",
            "        99           0.7099            0.22s\n",
            "       100           0.7096            0.21s\n",
            "       101           0.7095            0.21s\n",
            "       102           0.7095            0.20s\n",
            "       103           0.7094            0.20s\n",
            "       104           0.7093            0.19s\n",
            "       105           0.7090            0.19s\n",
            "       106           0.7090            0.18s\n",
            "       107           0.7089            0.18s\n",
            "       108           0.7088            0.17s\n",
            "       109           0.7082            0.17s\n",
            "       110           0.7077            0.16s\n",
            "       111           0.7075            0.16s\n",
            "       112           0.7071            0.16s\n",
            "       113           0.7070            0.15s\n",
            "       114           0.7070            0.15s\n",
            "       115           0.7069            0.14s\n",
            "       116           0.7068            0.14s\n",
            "       117           0.7067            0.13s\n",
            "       118           0.7067            0.13s\n",
            "       119           0.7065            0.12s\n",
            "       120           0.7063            0.12s\n",
            "       121           0.7063            0.11s\n",
            "       122           0.7062            0.11s\n",
            "       123           0.7061            0.10s\n",
            "       124           0.7061            0.10s\n",
            "       125           0.7060            0.09s\n",
            "       126           0.7058            0.09s\n",
            "       127           0.7058            0.09s\n",
            "       128           0.7057            0.08s\n",
            "       129           0.7056            0.08s\n",
            "       130           0.7055            0.07s\n",
            "       131           0.7053            0.07s\n",
            "       132           0.7052            0.06s\n",
            "       133           0.7050            0.06s\n",
            "       134           0.7050            0.05s\n",
            "       135           0.7048            0.05s\n",
            "       136           0.7047            0.04s\n",
            "       137           0.7046            0.04s\n",
            "       138           0.7045            0.03s\n",
            "       139           0.7045            0.03s\n",
            "       140           0.7044            0.02s\n",
            "       141           0.7043            0.02s\n",
            "       142           0.7043            0.01s\n",
            "       143           0.7041            0.01s\n",
            "       144           0.7038            0.00s\n",
            "       145           0.7038            0.00s\n"
          ],
          "name": "stdout"
        },
        {
          "output_type": "execute_result",
          "data": {
            "text/plain": [
              "GradientBoostingClassifier(ccp_alpha=0.0, criterion='friedman_mse', init=None,\n",
              "                           learning_rate=1, loss='deviance', max_depth=1,\n",
              "                           max_features='sqrt', max_leaf_nodes=None,\n",
              "                           min_impurity_decrease=0.0, min_impurity_split=None,\n",
              "                           min_samples_leaf=1, min_samples_split=16,\n",
              "                           min_weight_fraction_leaf=0.0, n_estimators=145,\n",
              "                           n_iter_no_change=None, presort='deprecated',\n",
              "                           random_state=2, subsample=1.0, tol=0.0001,\n",
              "                           validation_fraction=0.1, verbose=2, warm_start=True)"
            ]
          },
          "metadata": {
            "tags": []
          },
          "execution_count": 82
        }
      ]
    },
    {
      "cell_type": "code",
      "metadata": {
        "id": "-jXDijvVf542",
        "colab_type": "code",
        "colab": {}
      },
      "source": [
        "s2 = pd.Series(label_encoder_gender.inverse_transform(clf_2.predict(test_data_ohe)), name='gender')\n",
        "df = pd.concat([s1, s2], axis=1)"
      ],
      "execution_count": 0,
      "outputs": []
    },
    {
      "cell_type": "code",
      "metadata": {
        "id": "8-7yzxR2gBGt",
        "colab_type": "code",
        "colab": {}
      },
      "source": [
        "df.to_csv('submission12.csv', index=False)"
      ],
      "execution_count": 0,
      "outputs": []
    },
    {
      "cell_type": "code",
      "metadata": {
        "id": "o6Rx-dhtgOeN",
        "colab_type": "code",
        "colab": {}
      },
      "source": [
        "# this function provided me highest score of 0.86. Highest\n"
      ],
      "execution_count": 0,
      "outputs": []
    }
  ]
}